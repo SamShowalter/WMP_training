{
 "cells": [
  {
   "cell_type": "markdown",
   "metadata": {},
   "source": [
    "# WMP Tutorial: Predicting Attrition with Machine Learning\n",
    "\n",
    "Now that we have examined the data and done some exploration, let's walk through the process of actually predicting attrition. There are many approaches one can take, and in this tutorial we will walk through only a few of them. \n",
    "\n",
    "**Support:** If something does not work or make sense in this tutorial, please reach out to [Sam Showalter](mailto:sshowalter@wmp.com)"
   ]
  },
  {
   "cell_type": "markdown",
   "metadata": {},
   "source": [
    "## 1. Python Library and Package Imports\n",
    "\n",
    "Feel free to bring in any of your own custom packages in the labeled section below"
   ]
  },
  {
   "cell_type": "code",
   "execution_count": 1,
   "metadata": {
    "scrolled": true
   },
   "outputs": [],
   "source": [
    "# Import data management tools\n",
    "import pandas as pd"
   ]
  },
  {
   "cell_type": "markdown",
   "metadata": {},
   "source": [
    "## 2. Read in Data\n",
    "\n",
    "See if you can read in the dataframe using Pandas. Feel free to use Google.com and Stack Overflow for help. The filepath is listed below.\n",
    "\n",
    "https://raw.githubusercontent.com/jswortz/UIC_Clustering_Code_2019/master/data/WA_Fn-UseC_-HR-Employee-Attrition.csv\n",
    "\n",
    "**EXERCISE:** Please read in the data to the variable named df (shorthand for DataFrame), then double check that it imported successfully. Run the cell below your input and verify there are 1470 rows and 35 columns"
   ]
  },
  {
   "cell_type": "code",
   "execution_count": 2,
   "metadata": {},
   "outputs": [],
   "source": [
    "#WRITE YOUR CODE HERE TO READ IN DATA\n"
   ]
  },
  {
   "cell_type": "code",
   "execution_count": 4,
   "metadata": {},
   "outputs": [],
   "source": [
    "#Verify the data shape\n",
    "(\"Data Shape: {} rows x {} cols\".format(len(df), len(df.columns)))"
   ]
  },
  {
   "cell_type": "markdown",
   "metadata": {},
   "source": [
    "## 3. Check Data Quality\n",
    "\n",
    "The first thing to do after reading in the data and doing EDA (shown in previous notebook) is checking data quality. Machine Learning models are very sensitive and intolerant of ill-formatted or missing data. Therefore, the following exercises will allow us to better grasp the data quality itself. \n",
    "\n",
    "**EXERCISE:** See if you can find a snappy command to view any missing values in the dataframe, by column name."
   ]
  },
  {
   "cell_type": "code",
   "execution_count": null,
   "metadata": {},
   "outputs": [],
   "source": [
    "# WRITE YOUR CODE HERE TO CHECK FOR NULL DATA\n"
   ]
  },
  {
   "cell_type": "markdown",
   "metadata": {},
   "source": [
    "Lucky us! As you can see there is no missing data. Now, we need to determine what data type each column is. This will help us determine what columns we should drop and which need manipulation to be better for modeling.**EXERCISE:** See if you can find a snappy command to view any missing values in the dataframe, by column name.\n",
    "\n",
    "**EXERCISE:** See if you can find a way to view the data type of each column, either by looking at a snapshot of the dataframe or by printing the data types."
   ]
  },
  {
   "cell_type": "code",
   "execution_count": null,
   "metadata": {},
   "outputs": [],
   "source": [
    "#PRINT THE TOP FIVE ROWS OF THE DATAFRAME HERE\n"
   ]
  },
  {
   "cell_type": "code",
   "execution_count": null,
   "metadata": {},
   "outputs": [],
   "source": [
    "#PRINT THE DATA TYPES, BY COLUMN, of THE DATAFRAME HERE\n"
   ]
  },
  {
   "cell_type": "markdown",
   "metadata": {},
   "source": [
    "Interesting. There are several fields with a data type of \"object\". Use your data engineering skills to further understand what they are.\n",
    "\n",
    "**EXERCISE:** First, list out the names of all the columns with a data type of `object`. Then, show a snapshot of the dataframe for all of these columns and only these columns."
   ]
  },
  {
   "cell_type": "code",
   "execution_count": null,
   "metadata": {},
   "outputs": [],
   "source": [
    "#WRITE YOUR CODE HERE FOR OBJECT DATA TYPE COLUMNS\n"
   ]
  },
  {
   "cell_type": "code",
   "execution_count": null,
   "metadata": {},
   "outputs": [],
   "source": [
    "#PRINT A SNAPSHOT OF ALL OBJECT FIELDS IN DATAFRAME (HINT: Use your previous answer to help you)\n"
   ]
  },
  {
   "cell_type": "markdown",
   "metadata": {},
   "source": [
    "**EXERCISE:** Finally, fill out the following forms for each data type. Consider the following definitions for each, and take your time. This is very important for doing feature engineering correctly. Think about what the significance of a data type and its representation may have on a model.\n",
    "\n",
    " - **Categorical**: Often a string value. Different groups, or categories of objects (e.g. Cat, Dog, Mouse, ...)\n",
    " - **Numerically Discrete**: Countably infinite numerical values. Often integers.\n",
    " - **Numerically Continuous**: Numbers, but not countably infinite. Often float values.\n",
    " - **Boolean**: Yes or No values. Sometime represented as 1 or 0 **OR** as a two option categorial variable.\n",
    " - **Ordinal**: Categorial variables with proximal association. e.g.) small, medium, large **OR** level 1, 2, 3"
   ]
  },
  {
   "cell_type": "markdown",
   "metadata": {},
   "source": [
    "\n",
    "| Column Name | Potential Data Types |\n",
    "| :----------- | ---------------------|\n",
    "|**`Age`**$\\;\\;\\;\\;\\;\\;\\;\\;\\;\\;$   |   <input type=\"checkbox\" align = \"right\"> Categorical  $\\;\\;\\;\\;$ <input type=\"checkbox\" align = \"right\"> Numeric Discrete $\\;\\;\\;\\;$ <input type=\"checkbox\" align = \"right\"> Numeric Continuous $\\;\\;\\;\\;$ <input type=\"checkbox\" align = \"right\"> Boolean $\\;\\;\\;\\;$ <input type=\"checkbox\" align = \"right\"> Ordinal \n",
    "|\n",
    "|**`Attrition`**$\\;\\;\\;\\;\\;\\;\\;\\;\\;\\;$ |     <input type=\"checkbox\"> Categorical  $\\;\\;\\;\\;$ <input type=\"checkbox\"> Numeric Discrete $\\;\\;\\;\\;$ <input type=\"checkbox\"> Numeric Continuous $\\;\\;\\;\\;$ <input type=\"checkbox\"> Boolean $\\;\\;\\;\\;$ <input type=\"checkbox\"> Ordinal\n",
    "|\n",
    "|**`BusinessTravel`**$\\;\\;\\;\\;\\;\\;\\;\\;\\;\\;$ |     <input type=\"checkbox\" align = \"right\"> Categorical  $\\;\\;\\;\\;$ <input type=\"checkbox\" align = \"right\"> Numeric Discrete $\\;\\;\\;\\;$ <input type=\"checkbox\" align = \"right\"> Numeric Continuous $\\;\\;\\;\\;$ <input type=\"checkbox\" align = \"right\"> Boolean $\\;\\;\\;\\;$ <input type=\"checkbox\" align = \"right\"> Ordinal\n",
    "|\n",
    "|**`DailyRate`**$\\;\\;\\;\\;\\;\\;\\;\\;\\;\\;$   |   <input type=\"checkbox\" align = \"right\"> Categorical  $\\;\\;\\;\\;$ <input type=\"checkbox\" align = \"right\"> Numeric Discrete $\\;\\;\\;\\;$ <input type=\"checkbox\" align = \"right\"> Numeric Continuous $\\;\\;\\;\\;$ <input type=\"checkbox\" align = \"right\"> Boolean $\\;\\;\\;\\;$ <input type=\"checkbox\" align = \"right\"> Ordinal\n",
    "|\n",
    "|**`Department`**$\\;\\;\\;\\;\\;\\;\\;\\;\\;\\;$ |     <input type=\"checkbox\" align = \"right\"> Categorical  $\\;\\;\\;\\;$ <input type=\"checkbox\" align = \"right\"> Numeric Discrete $\\;\\;\\;\\;$ <input type=\"checkbox\" align = \"right\"> Numeric Continuous $\\;\\;\\;\\;$ <input type=\"checkbox\" align = \"right\"> Boolean $\\;\\;\\;\\;$ <input type=\"checkbox\" align = \"right\"> Ordinal\n",
    "|\n",
    "|**`DistanceFromHome`**$\\;\\;\\;\\;\\;\\;\\;\\;\\;\\;$   |   <input type=\"checkbox\" align = \"right\"> Categorical  $\\;\\;\\;\\;$ <input type=\"checkbox\" align = \"right\"> Numeric Discrete $\\;\\;\\;\\;$ <input type=\"checkbox\" align = \"right\"> Numeric Continuous $\\;\\;\\;\\;$ <input type=\"checkbox\" align = \"right\"> Boolean $\\;\\;\\;\\;$ <input type=\"checkbox\" align = \"right\"> Ordinal\n",
    "|\n",
    "|**`Education`**$\\;\\;\\;\\;\\;\\;\\;\\;\\;\\;$    |  <input type=\"checkbox\" align = \"right\"> Categorical  $\\;\\;\\;\\;$ <input type=\"checkbox\" align = \"right\"> Numeric Discrete $\\;\\;\\;\\;$ <input type=\"checkbox\" align = \"right\"> Numeric Continuous $\\;\\;\\;\\;$ <input type=\"checkbox\" align = \"right\"> Boolean $\\;\\;\\;\\;$ <input type=\"checkbox\" align = \"right\"> Ordinal\n",
    "|\n",
    "|**`EducationField`**$\\;\\;\\;\\;\\;\\;\\;\\;\\;\\;$  |    <input type=\"checkbox\" align = \"right\"> Categorical  $\\;\\;\\;\\;$ <input type=\"checkbox\" align = \"right\"> Numeric Discrete $\\;\\;\\;\\;$ <input type=\"checkbox\" align = \"right\"> Numeric Continuous $\\;\\;\\;\\;$ <input type=\"checkbox\" align = \"right\"> Boolean $\\;\\;\\;\\;$ <input type=\"checkbox\" align = \"right\"> Ordinal\n",
    "|\n",
    "|**`EmployeeCount`**$\\;\\;\\;\\;\\;\\;\\;\\;\\;\\;$   |   <input type=\"checkbox\" align = \"right\"> Categorical  $\\;\\;\\;\\;$ <input type=\"checkbox\" align = \"right\"> Numeric Discrete $\\;\\;\\;\\;$ <input type=\"checkbox\" align = \"right\"> Numeric Continuous $\\;\\;\\;\\;$ <input type=\"checkbox\" align = \"right\"> Boolean $\\;\\;\\;\\;$ <input type=\"checkbox\" align = \"right\"> Ordinal\n",
    "|\n",
    "|**`EmployeeNumber`**$\\;\\;\\;\\;\\;\\;\\;\\;\\;\\;$   |   <input type=\"checkbox\" align = \"right\"> Categorical  $\\;\\;\\;\\;$ <input type=\"checkbox\" align = \"right\"> Numeric Discrete $\\;\\;\\;\\;$ <input type=\"checkbox\" align = \"right\"> Numeric Continuous $\\;\\;\\;\\;$ <input type=\"checkbox\" align = \"right\"> Boolean $\\;\\;\\;\\;$ <input type=\"checkbox\" align = \"right\"> Ordinal\n",
    "|\n",
    "|**`EnvironmentSatisfaction`**$\\;\\;\\;\\;\\;\\;\\;\\;\\;\\;$  |    <input type=\"checkbox\" align = \"right\"> Categorical  $\\;\\;\\;\\;$ <input type=\"checkbox\" align = \"right\"> Numeric Discrete $\\;\\;\\;\\;$ <input type=\"checkbox\" align = \"right\"> Numeric Continuous $\\;\\;\\;\\;$ <input type=\"checkbox\" align = \"right\"> Boolean $\\;\\;\\;\\;$ <input type=\"checkbox\" align = \"right\"> Ordinal\n",
    "|\n",
    "|**`Gender`**$\\;\\;\\;\\;\\;\\;\\;\\;\\;\\;$   |   <input type=\"checkbox\" align = \"right\"> Categorical  $\\;\\;\\;\\;$ <input type=\"checkbox\" align = \"right\"> Numeric Discrete $\\;\\;\\;\\;$ <input type=\"checkbox\" align = \"right\"> Numeric Continuous $\\;\\;\\;\\;$ <input type=\"checkbox\" align = \"right\"> Boolean $\\;\\;\\;\\;$ <input type=\"checkbox\" align = \"right\"> Ordinal\n",
    "|\n",
    "|**`HourlyRate`**$\\;\\;\\;\\;\\;\\;\\;\\;\\;\\;$  |    <input type=\"checkbox\" align = \"right\"> Categorical  $\\;\\;\\;\\;$ <input type=\"checkbox\" align = \"right\"> Numeric Discrete $\\;\\;\\;\\;$ <input type=\"checkbox\" align = \"right\"> Numeric Continuous $\\;\\;\\;\\;$ <input type=\"checkbox\" align = \"right\"> Boolean $\\;\\;\\;\\;$ <input type=\"checkbox\" align = \"right\"> Ordinal\n",
    "|\n",
    "|**`JobInvolvement`**$\\;\\;\\;\\;\\;\\;\\;\\;\\;\\;$ |     <input type=\"checkbox\" align = \"right\"> Categorical  $\\;\\;\\;\\;$ <input type=\"checkbox\" align = \"right\"> Numeric Discrete $\\;\\;\\;\\;$ <input type=\"checkbox\" align = \"right\"> Numeric Continuous $\\;\\;\\;\\;$ <input type=\"checkbox\" align = \"right\"> Boolean $\\;\\;\\;\\;$ <input type=\"checkbox\" align = \"right\"> Ordinal\n",
    "|\n",
    "|**`JobLevel`**$\\;\\;\\;\\;\\;\\;\\;\\;\\;\\;$   |   <input type=\"checkbox\" align = \"right\"> Categorical  $\\;\\;\\;\\;$ <input type=\"checkbox\" align = \"right\"> Numeric Discrete $\\;\\;\\;\\;$ <input type=\"checkbox\" align = \"right\"> Numeric Continuous $\\;\\;\\;\\;$ <input type=\"checkbox\" align = \"right\"> Boolean $\\;\\;\\;\\;$ <input type=\"checkbox\" align = \"right\"> Ordinal\n",
    "|\n",
    "|**`JobRole`**$\\;\\;\\;\\;\\;\\;\\;\\;\\;\\;$  |    <input type=\"checkbox\" align = \"right\"> Categorical  $\\;\\;\\;\\;$ <input type=\"checkbox\" align = \"right\"> Numeric Discrete $\\;\\;\\;\\;$ <input type=\"checkbox\" align = \"right\"> Numeric Continuous $\\;\\;\\;\\;$ <input type=\"checkbox\" align = \"right\"> Boolean $\\;\\;\\;\\;$ <input type=\"checkbox\" align = \"right\"> Ordinal\n",
    "|\n",
    "|**`JobSatisfaction`**$\\;\\;\\;\\;\\;\\;\\;\\;\\;\\;$  |    <input type=\"checkbox\" align = \"right\"> Categorical  $\\;\\;\\;\\;$ <input type=\"checkbox\" align = \"right\"> Numeric Discrete $\\;\\;\\;\\;$ <input type=\"checkbox\" align = \"right\"> Numeric Continuous $\\;\\;\\;\\;$ <input type=\"checkbox\" align = \"right\"> Boolean $\\;\\;\\;\\;$ <input type=\"checkbox\" align = \"right\"> Ordinal\n",
    "|\n",
    "|**`MaritalStatus`**$\\;\\;\\;\\;\\;\\;\\;\\;\\;\\;$   |   <input type=\"checkbox\" align = \"right\"> Categorical  $\\;\\;\\;\\;$ <input type=\"checkbox\" align = \"right\"> Numeric Discrete $\\;\\;\\;\\;$ <input type=\"checkbox\" align = \"right\"> Numeric Continuous $\\;\\;\\;\\;$ <input type=\"checkbox\" align = \"right\"> Boolean $\\;\\;\\;\\;$ <input type=\"checkbox\" align = \"right\"> Ordinal\n",
    "|\n",
    "|**`MonthlyIncome`**$\\;\\;\\;\\;\\;\\;\\;\\;\\;\\;$  |    <input type=\"checkbox\" align = \"right\"> Categorical  $\\;\\;\\;\\;$ <input type=\"checkbox\" align = \"right\"> Numeric Discrete $\\;\\;\\;\\;$ <input type=\"checkbox\" align = \"right\"> Numeric Continuous $\\;\\;\\;\\;$ <input type=\"checkbox\" align = \"right\"> Boolean $\\;\\;\\;\\;$ <input type=\"checkbox\" align = \"right\"> Ordinal\n",
    "|\n",
    "|**`MonthlyRate`**$\\;\\;\\;\\;\\;\\;\\;\\;\\;\\;$  |    <input type=\"checkbox\" align = \"right\"> Categorical  $\\;\\;\\;\\;$ <input type=\"checkbox\" align = \"right\"> Numeric Discrete $\\;\\;\\;\\;$ <input type=\"checkbox\" align = \"right\"> Numeric Continuous $\\;\\;\\;\\;$ <input type=\"checkbox\" align = \"right\"> Boolean $\\;\\;\\;\\;$ <input type=\"checkbox\" align = \"right\"> Ordinal\n",
    "|\n",
    "|**`NumCompaniesWorked`**$\\;\\;\\;\\;\\;\\;\\;\\;\\;\\;$  |    <input type=\"checkbox\" align = \"right\"> Categorical  $\\;\\;\\;\\;$ <input type=\"checkbox\" align = \"right\"> Numeric Discrete $\\;\\;\\;\\;$ <input type=\"checkbox\" align = \"right\"> Numeric Continuous $\\;\\;\\;\\;$ <input type=\"checkbox\" align = \"right\"> Boolean $\\;\\;\\;\\;$ <input type=\"checkbox\" align = \"right\"> Ordinal\n",
    "|\n",
    "|**`Over18`**$\\;\\;\\;\\;\\;\\;\\;\\;\\;\\;$ |     <input type=\"checkbox\" align = \"right\"> Categorical  $\\;\\;\\;\\;$ <input type=\"checkbox\" align = \"right\"> Numeric Discrete $\\;\\;\\;\\;$ <input type=\"checkbox\" align = \"right\"> Numeric Continuous $\\;\\;\\;\\;$ <input type=\"checkbox\" align = \"right\"> Boolean $\\;\\;\\;\\;$ <input type=\"checkbox\" align = \"right\"> Ordinal\n",
    "|\n",
    "|**`OverTime`**$\\;\\;\\;\\;\\;\\;\\;\\;\\;\\;$    |  <input type=\"checkbox\" align = \"right\"> Categorical  $\\;\\;\\;\\;$ <input type=\"checkbox\" align = \"right\"> Numeric Discrete $\\;\\;\\;\\;$ <input type=\"checkbox\" align = \"right\"> Numeric Continuous $\\;\\;\\;\\;$ <input type=\"checkbox\" align = \"right\"> Boolean $\\;\\;\\;\\;$ <input type=\"checkbox\" align = \"right\"> Ordinal\n",
    "|\n",
    "|**`PercentSalaryHike`**$\\;\\;\\;\\;\\;\\;\\;\\;\\;\\;$   |   <input type=\"checkbox\" align = \"right\"> Categorical  $\\;\\;\\;\\;$ <input type=\"checkbox\" align = \"right\"> Numeric Discrete $\\;\\;\\;\\;$ <input type=\"checkbox\" align = \"right\"> Numeric Continuous $\\;\\;\\;\\;$ <input type=\"checkbox\" align = \"right\"> Boolean $\\;\\;\\;\\;$ <input type=\"checkbox\" align = \"right\"> Ordinal\n",
    "|\n",
    "|**`PerformanceRating`**$\\;\\;\\;\\;\\;\\;\\;\\;\\;\\;$  |    <input type=\"checkbox\" align = \"right\"> Categorical  $\\;\\;\\;\\;$ <input type=\"checkbox\" align = \"right\"> Numeric Discrete $\\;\\;\\;\\;$ <input type=\"checkbox\" align = \"right\"> Numeric Continuous $\\;\\;\\;\\;$ <input type=\"checkbox\" align = \"right\"> Boolean $\\;\\;\\;\\;$ <input type=\"checkbox\" align = \"right\"> Ordinal\n",
    "|\n",
    "|**`RelationshipSatisfaction`**$\\;\\;\\;\\;\\;\\;\\;\\;\\;\\;$  |    <input type=\"checkbox\" align = \"right\"> Categorical  $\\;\\;\\;\\;$ <input type=\"checkbox\" align = \"right\"> Numeric Discrete $\\;\\;\\;\\;$ <input type=\"checkbox\" align = \"right\"> Numeric Continuous $\\;\\;\\;\\;$ <input type=\"checkbox\" align = \"right\"> Boolean $\\;\\;\\;\\;$ <input type=\"checkbox\" align = \"right\"> Ordinal\n",
    "|\n",
    "|**`StandardHours`**$\\;\\;\\;\\;\\;\\;\\;\\;\\;\\;$    |  <input type=\"checkbox\" align = \"right\"> Categorical  $\\;\\;\\;\\;$ <input type=\"checkbox\" align = \"right\"> Numeric Discrete $\\;\\;\\;\\;$ <input type=\"checkbox\" align = \"right\"> Numeric Continuous $\\;\\;\\;\\;$ <input type=\"checkbox\" align = \"right\"> Boolean $\\;\\;\\;\\;$ <input type=\"checkbox\" align = \"right\"> Ordinal\n",
    "|\n",
    "|**`StockOptionLevel`**$\\;\\;\\;\\;\\;\\;\\;\\;\\;\\;$  |    <input type=\"checkbox\" align = \"right\"> Categorical  $\\;\\;\\;\\;$ <input type=\"checkbox\" align = \"right\"> Numeric Discrete $\\;\\;\\;\\;$ <input type=\"checkbox\" align = \"right\"> Numeric Continuous $\\;\\;\\;\\;$ <input type=\"checkbox\" align = \"right\"> Boolean $\\;\\;\\;\\;$ <input type=\"checkbox\" align = \"right\"> Ordinal\n",
    "|\n",
    "|**`TotalWorkingYears`**$\\;\\;\\;\\;\\;\\;\\;\\;\\;\\;$  |    <input type=\"checkbox\" align = \"right\"> Categorical  $\\;\\;\\;\\;$ <input type=\"checkbox\" align = \"right\"> Numeric Discrete $\\;\\;\\;\\;$ <input type=\"checkbox\" align = \"right\"> Numeric Continuous $\\;\\;\\;\\;$ <input type=\"checkbox\" align = \"right\"> Boolean $\\;\\;\\;\\;$ <input type=\"checkbox\" align = \"right\"> Ordinal\n",
    "|\n",
    "|**`TrainingTimesLastYear`**$\\;\\;\\;\\;\\;\\;\\;\\;\\;\\;$  |    <input type=\"checkbox\" align = \"right\"> Categorical  $\\;\\;\\;\\;$ <input type=\"checkbox\" align = \"right\"> Numeric Discrete $\\;\\;\\;\\;$ <input type=\"checkbox\" align = \"right\"> Numeric Continuous $\\;\\;\\;\\;$ <input type=\"checkbox\" align = \"right\"> Boolean $\\;\\;\\;\\;$ <input type=\"checkbox\" align = \"right\"> Ordinal\n",
    "|\n",
    "|**`WorkLifeBalance`**$\\;\\;\\;\\;\\;\\;\\;\\;\\;\\;$   |   <input type=\"checkbox\" align = \"right\"> Categorical  $\\;\\;\\;\\;$ <input type=\"checkbox\" align = \"right\"> Numeric Discrete $\\;\\;\\;\\;$ <input type=\"checkbox\" align = \"right\"> Numeric Continuous $\\;\\;\\;\\;$ <input type=\"checkbox\" align = \"right\"> Boolean $\\;\\;\\;\\;$ <input type=\"checkbox\" align = \"right\"> Ordinal\n",
    "|\n",
    "|**`YearsAtCompany`**$\\;\\;\\;\\;\\;\\;\\;\\;\\;\\;$  |    <input type=\"checkbox\" align = \"right\"> Categorical  $\\;\\;\\;\\;$ <input type=\"checkbox\" align = \"right\"> Numeric Discrete $\\;\\;\\;\\;$ <input type=\"checkbox\" align = \"right\"> Numeric Continuous $\\;\\;\\;\\;$ <input type=\"checkbox\" align = \"right\"> Boolean $\\;\\;\\;\\;$ <input type=\"checkbox\" align = \"right\"> Ordinal\n",
    "|\n",
    "|**`YearsInCurrentRole`**$\\;\\;\\;\\;\\;\\;\\;\\;\\;\\;$   |   <input type=\"checkbox\" align = \"right\"> Categorical  $\\;\\;\\;\\;$ <input type=\"checkbox\" align = \"right\"> Numeric Discrete $\\;\\;\\;\\;$ <input type=\"checkbox\" align = \"right\"> Numeric Continuous $\\;\\;\\;\\;$ <input type=\"checkbox\" align = \"right\"> Boolean $\\;\\;\\;\\;$ <input type=\"checkbox\" align = \"right\"> Ordinal\n",
    "|\n",
    "|**`YearsSinceLastPromotion`**   $\\;\\;\\;\\;\\;\\;\\;\\;\\;\\;$  |    <input type=\"checkbox\" align = \"right\"> Categorical  $\\;\\;\\;\\;$ <input type=\"checkbox\" align = \"right\"> Numeric Discrete $\\;\\;\\;\\;$ <input type=\"checkbox\" align = \"right\"> Numeric Continuous $\\;\\;\\;\\;$ <input type=\"checkbox\" align = \"right\"> Boolean $\\;\\;\\;\\;$ <input type=\"checkbox\" align = \"right\"> Ordinal\n",
    "|  \n",
    "|**`YearsWithCurrManager`**  $\\;\\;\\;\\;\\;\\;\\;\\;\\;\\;$   |   <input type=\"checkbox\" align = \"right\"> Categorical  $\\;\\;\\;\\;$ <input type=\"checkbox\" align = \"right\"> Numeric Discrete $\\;\\;\\;\\;$ <input type=\"checkbox\" align = \"right\"> Numeric Continuous $\\;\\;\\;\\;$ <input type=\"checkbox\" align = \"right\"> Boolean $\\;\\;\\;\\;$ <input type=\"checkbox\" align = \"right\"> Ordinal\n",
    "|      "
   ]
  },
  {
   "cell_type": "markdown",
   "metadata": {},
   "source": [
    "## 4. Feature Engineering\n",
    "\n",
    "Now that we have a good grasp for the data and its data types, we need to do the following to prepare for modeling.\n",
    "\n",
    "    1.) Determine what fields make sense to include for modeling. (What could reasonably impact attrition?)\n",
    "    2.) How should different data types be transformed to be conducive for modeling? \n",
    "    3.) Write the code necessary for creating a modeling dataset."
   ]
  },
  {
   "cell_type": "markdown",
   "metadata": {},
   "source": [
    "### 4.a. Dropping Inapplicable Fields\n",
    "\n",
    "We want to include everything that could even have the slightest impact on attrition, but leave out the remaining fields.\n",
    "\n",
    "**EXERCISE**: List the fields that you should remove and write a small description outlining your logic.\n",
    "\n",
    "LIST OF FIELDS TO REMOVE:\n",
    "\\\n",
    "        1.) **EmployeeNumber** -- This is just an employees identification number and has nothing to do with attrition\n",
    "    \\\n",
    "        2.) **HourlyRate** -- Monthly rate is already provided, which documents the same thing (could switch with Monthly)\n",
    "    \\\n",
    "        3.) **DailyRate** -- Daily rate is already provided, which documents the same thing (could switch with Monthly)\n",
    "        \n",
    "**EXERCISE**: With your data to drop now defined, drop the columns while keeping the data in variable `df`. (**HINT**: There are three columns to drop)"
   ]
  },
  {
   "cell_type": "code",
   "execution_count": null,
   "metadata": {},
   "outputs": [],
   "source": [
    "#WRITE CODE HERE TO DROP COLUMNS\n"
   ]
  },
  {
   "cell_type": "markdown",
   "metadata": {},
   "source": [
    "### 4.b. Handling Categorical Data\n",
    "\n",
    "Categorical data is almost always represented with string data types. Mathematical models do not know how to process strings so as data scientists we must alias them and create dummy variables.\n",
    "\n",
    "**EXERCISE**: The function below is intended to create dummy variables of each categorical variable in the dataset, then combine all of the information into a single dataframe called `categorical_df`. Create a list of the categorical variables that need to be converted, then write the function call to convert them. Name the output variable `categorical_df`."
   ]
  },
  {
   "cell_type": "code",
   "execution_count": null,
   "metadata": {},
   "outputs": [],
   "source": [
    "def create_categorical_df(data, column_names):\n",
    "    \n",
    "    categorical_df = None\n",
    "    \n",
    "    for categorical_column in column_names:\n",
    "        \n",
    "        #WRITE DUMMY VARIABLE FUNCTION HERE\n",
    "        categorical_dummies = pd.get_dummies(data[categorical_column])\n",
    "        \n",
    "        if categorical_df is None:\n",
    "            categorical_df = categorical_dummies\n",
    "            \n",
    "        else:\n",
    "            categorical_df = pd.concat([categorical_df, categorical_dummies], axis =1)\n",
    "    \n",
    "    return categorical_df"
   ]
  },
  {
   "cell_type": "code",
   "execution_count": null,
   "metadata": {},
   "outputs": [],
   "source": [
    "#MAKE LIST OF CATEGORICAL COLUMN NAMES HERE\n",
    "\n",
    "\n",
    "#MAKE FUNCTION CALL HERE TO MAKE CATEGORICAL DF\n"
   ]
  },
  {
   "cell_type": "markdown",
   "metadata": {},
   "source": [
    "**EXERCISE**: Verify you were successful by printing the head of the dataset"
   ]
  },
  {
   "cell_type": "code",
   "execution_count": null,
   "metadata": {},
   "outputs": [],
   "source": [
    "#WRITE CODE HERE TO VIEW HEAD OF CATEGORICAL DF\n"
   ]
  },
  {
   "cell_type": "markdown",
   "metadata": {},
   "source": [
    "### 4.c. Handling Ordinal Data\n",
    "\n",
    "Similar to categorical data, ordinal data is also often a string value. However, we do not need to make dummies of this data since there is a measure of proximity. We only need to alias the data but also ensure that **the logical order of the data is maintained**. \n",
    "\n",
    "**EXERCISE**: The function below converts ordinal data into a model friendly format. Create a list of all ordinal data types to be converted, then create the function call and save the output at ordinal_df. (HINT: There are a total of **Four** columns, but **ONLY ONE** needs to be preprocessed. Put only the one that needs to be preprocessed in the `ordinal_df` list below. We will add the rest later."
   ]
  },
  {
   "cell_type": "code",
   "execution_count": null,
   "metadata": {},
   "outputs": [],
   "source": [
    "def create_ordinal_df(data, ordinal_names, ordinal_dict):\n",
    "    \n",
    "    ordinal_df = data.loc[:,ordinal_names]\n",
    "    \n",
    "    for name in ordinal_names:\n",
    "        ordinal_df[name] = ordinal_df[name].map(ordinal_dict)\n",
    "    \n",
    "    return ordinal_df\n",
    "\n",
    "def view_ordinality(data, ordinal_names):\n",
    "    for name in ordinal_names:\n",
    "        print(data[name].drop_duplicates())\n",
    "        print()"
   ]
  },
  {
   "cell_type": "code",
   "execution_count": null,
   "metadata": {},
   "outputs": [],
   "source": [
    "#MAKE LIST OF (ONE) ORDINAL COLUMN NAME HERE\n"
   ]
  },
  {
   "cell_type": "markdown",
   "metadata": {},
   "source": [
    "**EXERCISE**: View the ordinality of the appropriate column name, and make the corresponding dictionary (e.g. 0 = low, 1 = medium, 2 = high)."
   ]
  },
  {
   "cell_type": "code",
   "execution_count": null,
   "metadata": {},
   "outputs": [],
   "source": [
    "#VIEW ORDINALITY OF ORDINAL COLUMNS\n"
   ]
  },
  {
   "cell_type": "code",
   "execution_count": null,
   "metadata": {},
   "outputs": [],
   "source": [
    "#MAKE ORDINAL DICTIONARY\n"
   ]
  },
  {
   "cell_type": "code",
   "execution_count": null,
   "metadata": {},
   "outputs": [],
   "source": [
    "#MAKE FUNCTION CALL HERE TO CREATE ORDINAL DICT\n"
   ]
  },
  {
   "cell_type": "markdown",
   "metadata": {},
   "source": [
    "Finally, let's add back all of the ordinal columns that did not need any alteration. These include Education, StockOptionLevel, and JobLevel."
   ]
  },
  {
   "cell_type": "code",
   "execution_count": null,
   "metadata": {},
   "outputs": [],
   "source": [
    "#Data is added back for you.\n",
    "ordinal_df = pd.concat([ordinal_df, df.loc[:, [\"Education\", \"StockOptionLevel\", \"JobLevel\"]]], axis = 1)"
   ]
  },
  {
   "cell_type": "markdown",
   "metadata": {},
   "source": [
    "**EXERCISE**: Verify you were successful by checking the data types of the ordinal_df. They should be integers."
   ]
  },
  {
   "cell_type": "code",
   "execution_count": null,
   "metadata": {},
   "outputs": [],
   "source": [
    "#VIEW DATA TYPES OF ORDINAL DF HERE\n"
   ]
  },
  {
   "cell_type": "markdown",
   "metadata": {},
   "source": [
    "### 4.d. Handling Boolean Data\n",
    "\n",
    "Boolean data is also often in string format. This conversion is trickier because you need to determine what represents **YES** and **NO** for each column. For attrition, this is self-explanatory (1 = attrition, 0 = not). For columns like gender, pick either gender as the **YES** gender. Ultimately it will not impact the modeling.\n",
    "\n",
    "**EXERCISE**: Determine the variables that are boolean, as well as their YES / NO values, by following the steps below. Then convert the values using the provided function."
   ]
  },
  {
   "cell_type": "code",
   "execution_count": null,
   "metadata": {},
   "outputs": [],
   "source": [
    "# CREATE A LIST OF BOOLEAN COLUMNS\n"
   ]
  },
  {
   "cell_type": "code",
   "execution_count": null,
   "metadata": {},
   "outputs": [],
   "source": [
    "# Visualize the unique names found in each column name by running the function\n",
    "def visualize_booleans(data, boolean_names,):\n",
    "    for name in boolean_names:\n",
    "        print(data[name].drop_duplicates())\n",
    "        print()"
   ]
  },
  {
   "cell_type": "code",
   "execution_count": null,
   "metadata": {},
   "outputs": [],
   "source": [
    "#CALL THE VISUALIZE BOOLEANS FUNCTION HERE\n"
   ]
  },
  {
   "cell_type": "markdown",
   "metadata": {},
   "source": [
    "**EXERCISE**: It looks like we have another column that does not provide us with any unique data. Figure out which column that is, and drop it. "
   ]
  },
  {
   "cell_type": "code",
   "execution_count": null,
   "metadata": {},
   "outputs": [],
   "source": [
    "# WRITE CODE HERE TO DROP COLUMN\n"
   ]
  },
  {
   "cell_type": "code",
   "execution_count": null,
   "metadata": {},
   "outputs": [],
   "source": [
    "#REMOVE Over18 FROM boolean_names LIST (done for you)\n"
   ]
  },
  {
   "cell_type": "markdown",
   "metadata": {},
   "source": [
    "**EXERCISE**: Finally, create a list of lists in the format shown below, and feed it into the provided function to conver boolean values."
   ]
  },
  {
   "cell_type": "code",
   "execution_count": null,
   "metadata": {},
   "outputs": [],
   "source": [
    "def convert_boolean_df(data, boolean_names_and_values):\n",
    "    for name_value in boolean_names_and_values:\n",
    "        data[name_value[0]] = data[name_value[0]].map({name_value[1]: 1,\n",
    "                                                       name_value[2]: 0})\n"
   ]
  },
  {
   "cell_type": "code",
   "execution_count": null,
   "metadata": {},
   "outputs": [],
   "source": [
    "# CREATE A LIST OF LISTS ALL BOOLEAN COLUMNS\n",
    "# Each list has the order: [COLUMN_NAME, YES_VALUE, NO_VALUE]\n",
    "\n"
   ]
  },
  {
   "cell_type": "code",
   "execution_count": null,
   "metadata": {},
   "outputs": [],
   "source": [
    "#CALL FUNCTION TO CONVERT BOOLEAN DF HERE\n"
   ]
  },
  {
   "cell_type": "markdown",
   "metadata": {},
   "source": [
    "**EXERCISE**: Verify you were successful by running `visualize_booleans` again and comparing the results."
   ]
  },
  {
   "cell_type": "code",
   "execution_count": null,
   "metadata": {},
   "outputs": [],
   "source": [
    "#VISUALIZE BOOLEAN OUTPUT HERE USING visualize_booleans FUNCTION\n"
   ]
  },
  {
   "cell_type": "markdown",
   "metadata": {},
   "source": [
    "### 4.e. Normalizing Numerical Data\n",
    "\n",
    "We are almost ready for modeling! The last thing to do is convert our numerical data into something with more context. When we look at something like income for modeling, the actual value means nothing. What **DOES** matter is how different that value is from other data observations. \n",
    "\n",
    "Therefore, many data scientists standardize numerical data by fitting it to a normal distribution and storing the z-score rather than the actual values.\n",
    "\n",
    "**EXERCISE**: Create a list of all the columns that need to be normalized (there are many!) and call it `normalized_names`. Then call the function that will normalize them and save them all to `normalized_df`."
   ]
  },
  {
   "cell_type": "code",
   "execution_count": null,
   "metadata": {},
   "outputs": [],
   "source": [
    "from sklearn.preprocessing import StandardScaler\n",
    "\n",
    "def normalize_values(data, column_names):\n",
    "    normalized_df = StandardScaler().fit_transform(data.loc[:,\n",
    "                                                            column_names])\n",
    "    \n",
    "    return pd.DataFrame(normalized_df, columns = column_names)\n"
   ]
  },
  {
   "cell_type": "code",
   "execution_count": null,
   "metadata": {},
   "outputs": [],
   "source": [
    "#WRITE NORMALIZED COLUMN NAMES LIST HERE\n",
    "\n"
   ]
  },
  {
   "cell_type": "code",
   "execution_count": null,
   "metadata": {},
   "outputs": [],
   "source": [
    "#CALL normalize_values FUNCTION HERE\n"
   ]
  },
  {
   "cell_type": "markdown",
   "metadata": {},
   "source": [
    "**EXERCISE**: Verify you were successful by viewing the head of the normalized_df"
   ]
  },
  {
   "cell_type": "code",
   "execution_count": null,
   "metadata": {},
   "outputs": [],
   "source": [
    "#VIEW HEAD OF NORMALIZED DF HERE\n"
   ]
  },
  {
   "cell_type": "markdown",
   "metadata": {},
   "source": [
    "### 4.f. Finalizing the Modeling Dataset\n",
    "\n",
    "Finally, we are ready to combine everything together into a modeling dataset. The dataset df is refined for you below to trim out all values that we have changed.\n",
    "\n",
    "**EXERCISE**: Using all of the previously created dataframes, including `boolean_df` below, combine all of the data into a single flat dataset"
   ]
  },
  {
   "cell_type": "code",
   "execution_count": null,
   "metadata": {},
   "outputs": [],
   "source": [
    "# Editing df to only include up-to-date columns (done for you)\n",
    "boolean_df = df.loc[:,boolean_names]"
   ]
  },
  {
   "cell_type": "code",
   "execution_count": null,
   "metadata": {},
   "outputs": [],
   "source": [
    "#COMBINE ALL DATA TOGETHER HERE (including boolean_df)\n"
   ]
  },
  {
   "cell_type": "markdown",
   "metadata": {},
   "source": [
    "**EXERCISE**: Verify that you combined the data correctly by checking the shape of `df`. You should have 1470 rows and 48 columns"
   ]
  },
  {
   "cell_type": "code",
   "execution_count": null,
   "metadata": {},
   "outputs": [],
   "source": [
    "#VIEW SHAPE OF DF HERE\n"
   ]
  },
  {
   "cell_type": "markdown",
   "metadata": {},
   "source": [
    "## 5. Model Training and Evaluation\n",
    "\n",
    "Finally, we are ready to start modeling. In this section we will compare the performance of three fairly basic Machine Learning algorithms and see how well they can predict attrition.\n",
    "\n",
    "The three models are listed below, and will be implemented using Scikit-Learn, one of the most popular ML packages in Python:\n",
    "\n",
    "    1.) K-Nearest Neighbors (KNN)\n",
    "    2.) Gaussian Naive Bayes (GNB)\n",
    "    3.) Logistic Regression (LOG)\n",
    "    \n",
    "Here is a quick blurb on how each of these ML algorithms work.\n",
    "   \n",
    "- **KNN** \n",
    "\n",
    "Takes an unknown person (don't know if there was attrition) and compares it to the most similar people they work with. If the most similar \"K\" people were characterized by attrition, then the unknown individual is as well.\n",
    "   \n",
    "- **GNB** \n",
    "    \n",
    "Probabilistically examines the mean characteristics of the stereotypical attrition and non-attrition individual. Assuming feature independence (naivete), the unknown person is classified based on the stereotype in which they are characteristically most similar.\n",
    "  \n",
    "- **LOG** \n",
    "\n",
    "Regression system that classifies individuals by determining an optimal separation boundary between individuals that were characterized by attrition and those that were not. "
   ]
  },
  {
   "cell_type": "markdown",
   "metadata": {},
   "source": [
    "### 5.a. Importing Models\n",
    "\n",
    "For convenience, the models have been imported below"
   ]
  },
  {
   "cell_type": "code",
   "execution_count": null,
   "metadata": {},
   "outputs": [],
   "source": [
    "# KNN\n",
    "from sklearn.neighbors import KNeighborsClassifier\n",
    "\n",
    "# GNB\n",
    "from sklearn.naive_bayes import GaussianNB\n",
    "\n",
    "# LOG\n",
    "from sklearn.linear_model import LogisticRegression"
   ]
  },
  {
   "cell_type": "markdown",
   "metadata": {},
   "source": [
    "Before we can do anything with these models, we need to instantiate them.\n",
    "\n",
    "**EXERCISE**: Instantiate all three models below, setting them to the names of their abbreviations (this is simple, do not overthink this)."
   ]
  },
  {
   "cell_type": "code",
   "execution_count": null,
   "metadata": {},
   "outputs": [],
   "source": [
    "# KNN\n",
    "\n",
    "\n",
    "# GNB\n",
    "\n",
    "\n",
    "# LOG\n"
   ]
  },
  {
   "cell_type": "markdown",
   "metadata": {},
   "source": [
    "### 5.b. Split the data into train and test slices\n",
    "\n",
    "To evaluate models in an unbiased way, we have to set some data aside that the model will not see during training. This process is called train test split.\n",
    "\n",
    "**EXERCISE**: The train test split function is provided to you below. Split the input and target (**target = Attrition**) data into slices. Set the output variables to be X_train, X_test, y_train, and y_test **in that order**. Make the split on 25% of the data."
   ]
  },
  {
   "cell_type": "code",
   "execution_count": null,
   "metadata": {},
   "outputs": [],
   "source": [
    "from sklearn.model_selection import train_test_split"
   ]
  },
  {
   "cell_type": "code",
   "execution_count": null,
   "metadata": {},
   "outputs": [],
   "source": [
    "#WRITE CODE HERE\n"
   ]
  },
  {
   "cell_type": "markdown",
   "metadata": {},
   "source": [
    "### 5.c. Train all of the models\n",
    "\n",
    "Now we are ready to train the models! In order to train the models, you must call `.fit` on each model. Be sure to only give the model the training data! e.g.) model.fit(train_x_values, train_y_values)\n",
    "\n",
    "**EXERCISE**: Call `.fit` for all of the instantiated models."
   ]
  },
  {
   "cell_type": "code",
   "execution_count": null,
   "metadata": {},
   "outputs": [],
   "source": [
    "# KNN\n",
    "\n",
    "\n",
    "# GNB\n",
    "\n",
    "\n",
    "# LOG\n"
   ]
  },
  {
   "cell_type": "markdown",
   "metadata": {},
   "source": [
    "### 5.d. Make prediction for all of the models\n",
    "\n",
    "Now we can use our trained models to predict. You can do so by providing **ONLY THE TRAINING DATA** to the trained model and calling `.predict`. e.g.) model.predict(test_x_values)\n",
    "\n",
    "**EXERCISE**: Call `.predict` for all of the instantiated models. Save all output as \"<MODEL_NAME>_preds\". e.g.) KNN_preds."
   ]
  },
  {
   "cell_type": "code",
   "execution_count": null,
   "metadata": {},
   "outputs": [],
   "source": [
    "# KNN\n",
    "\n",
    "\n",
    "# GNB\n",
    "\n",
    "\n",
    "# LOG\n"
   ]
  },
  {
   "cell_type": "markdown",
   "metadata": {},
   "source": [
    "### 5.e. Evaluate performance for all models\n",
    "\n",
    "**EXERCISE**: Now that we have predictions, use the function provided below to determine which model is best! See the function's inputs for what you need to provide (**HINT**: which of the `train_test_split` slices includes the actual classes for the test data?)"
   ]
  },
  {
   "cell_type": "code",
   "execution_count": null,
   "metadata": {},
   "outputs": [],
   "source": [
    "from sklearn.metrics import classification_report\n",
    "\n",
    "def get_performance(model_name, actual_results, predictions):\n",
    "    print(model_name + \"\\n\" +\n",
    "          classification_report(actual_results, \n",
    "                                predictions))\n",
    "    print(\"\\n================================================================================\\n\")"
   ]
  },
  {
   "cell_type": "code",
   "execution_count": null,
   "metadata": {},
   "outputs": [],
   "source": [
    "#KNN PERFORMANCE\n",
    "\n",
    "\n",
    "#GNB PERFORMANCE\n",
    "\n",
    "\n",
    "#LOG PERFORMANCE\n"
   ]
  },
  {
   "cell_type": "markdown",
   "metadata": {},
   "source": [
    "**EXERCISE**: Which model was the best?\n",
    "    \n",
    "<input type=\"checkbox\" align = \"right\"> KNN  $\\;\\;\\;\\;$ <input type=\"checkbox\" align = \"right\"> GNB $\\;\\;\\;\\;$ <input type=\"checkbox\" align = \"right\"> LOG \n",
    "\n",
    "**CONGRATULATIONS! YOU FINISHED THE WMP MACHINE LEARNING TUTORIAL!**"
   ]
  },
  {
   "cell_type": "markdown",
   "metadata": {},
   "source": [
    "## Advanced Exercises \n",
    "\n",
    "If you liked this tutorial, want to get involved in Machine Learning at West Monroe, or both, please go ahead and try the following additional exercises. \n",
    "\n",
    "1. Unsupervised Machine Learning groups data based on metrics of similarity. Leverage a clustering algorithm like K-means and document its findings with the given data. What is the composition of each cluster and what insights about attrition can you determine? Save your results as a Jupyter notebook and send them to **Sam Showalter** or **Jordan Totten** for review.\n",
    "\n",
    "2. In this tutorial we used the package Scikit-learn to examine different Machine Learning algorithms and their ability to predict attrition with the given data. For the simplest of these algorithms, K-Nearest Neighbors, implement the algorithm from scratch (no Sklearn!) and compare the results to the findings in your notebook.\n",
    "\n",
    "3. Really love this stuff? Are you a math whiz? Implement a Gaussian Naive Bayes' classifier from scratch to classify this data. Compare its performance to the Scikit-learn GNB. If you do so successfully, you will get an all-analytics shout out!"
   ]
  }
 ],
 "metadata": {
  "kernelspec": {
   "display_name": "Python (showenv)",
   "language": "python",
   "name": "showenv"
  },
  "language_info": {
   "codemirror_mode": {
    "name": "ipython",
    "version": 3
   },
   "file_extension": ".py",
   "mimetype": "text/x-python",
   "name": "python",
   "nbconvert_exporter": "python",
   "pygments_lexer": "ipython3",
   "version": "3.7.3"
  }
 },
 "nbformat": 4,
 "nbformat_minor": 2
}
