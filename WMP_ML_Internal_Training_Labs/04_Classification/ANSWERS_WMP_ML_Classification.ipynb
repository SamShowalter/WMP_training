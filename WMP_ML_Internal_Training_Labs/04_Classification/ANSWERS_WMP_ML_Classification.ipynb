{
 "cells": [
  {
   "cell_type": "markdown",
   "metadata": {},
   "source": [
    "# ANSWERS: WMP Machine Learning Lab 1 - Exploratory Data Analysis\n",
    "\n",
    "## Overview: \n",
    "Perhaps the single most important skill in Data Science is the ability to familiarize yourself with data. No model will ever be good enough to overcome bad data, nor will a model generate data understanding for you. Therefore, this lab is your chance to apply what you learned from the EDA lectures to a real dataset. \n",
    "\n",
    "## Agenda (Total time: 6 hours)\n",
    "- Introduction, guided lab (**2.5 hours**)\n",
    "- Team work on EDA report (**2 hours**)\n",
    "- Presentation of EDA report (**1.5 hours, 45 mins per team**)\n",
    "\n",
    "### Instructor: Sam Showalter"
   ]
  },
  {
   "cell_type": "markdown",
   "metadata": {},
   "source": [
    "# Introduction\n",
    "\n",
    "## Source Data:\n",
    "\n",
    "https://www.ibm.com/communities/analytics/watson-analytics-blog/hr-employee-attrition/ \n",
    "\n",
    "SAMPLE DATA: HR Employee Attrition and Performance\n",
    "avatar McKinley Stacker IV  Sep 14, 2015  91925\n",
    "Watson Analytics Sample Data\n",
    "\n",
    "Uncover the factors that lead to employee attrition and explore important questions such as ‘show me a breakdown of distance from home by job role and attrition’ or ‘compare average monthly income by education and attrition’. This is a fictional data set created by IBM data scientists.\n",
    "\n",
    "### EDA Topics to Cover\n",
    "\n",
    "- Summary statistics\n",
    "- Histograms and Univariate plots\n",
    "- Bivariate plots\n",
    "- Correlation and correlation plots\n",
    "- Outlier detection\n",
    "- Categorical data analysis\n",
    "\n",
    "### Stretch EDA Topics (for those who want to show off)\n",
    "- QQ Plots\n",
    "- Advanced Seaborn Plotting\n",
    "- Iteractive EDA plotting (plotly)\n",
    "\n",
    "### Goal and Guided Agenda\n",
    "\n",
    "As a new data scientist in a R&D technology company, your executive analytics committee has tasked you to find the driving factors of attrition in the organization. You are planning on doing the following:\n",
    "\n",
    "- **20 minutes** -  Before starting through this notebook, as a team take 15 minutes to develop some initial theories  on why some empoloyees Attrite and others do not. Think about some EDA techniques that could be useful. Write down your theories and share them once the exercise ends (5 minutes). \n",
    "- **20 minutes** - Now that you have given a _cold_ assessment of potential Attrition reasons, take 15 minutes to assess and consider the Summary Statistics section of this notebook. Gather evidence from this section and take 5 minutes to share those findings once you are done.\n",
    "- **60 minutes** - With some summary statistic information in hand, augment your exploration by taking 55 minutes considering the Pandas Profiler, which provides an immense amount of information in HTML format. Go through this report and document any important findings. In particular, take note of the following and discuss what you found for 5 minutes at the end:\n",
    "    + Consider the correlation information and correlation plots in **4.**\n",
    "    + Assess the composition of categorical variables in **5.**\n",
    "    + Document areas where you think the Pandas Profiler may have made mistakes, if any\n",
    "    + See if you can identify any outliers from the profiler, or by doing custom analysis with Pandas\n",
    "- **40 minutes** -- Finally, examine the univariate and bivariate plots section to determine if there are any trends that you missed or could not see with the previous resources. Add these findings to your notes, and make note of any situations where univariate and bivariate plots were not particularly insightful. \n",
    "- **BONUS** - If you were able to get through all of this and have extra time at the end, examine some of the stretch topics and try to create valuable EDA insights of your own, in Python. NOTE: Make sure you are completely done with and confident about your previous sections before proceeding to the bonus\n",
    "\n",
    "Use the graphs that have been created for you below, and answer the questions provided. Good luck!"
   ]
  },
  {
   "cell_type": "markdown",
   "metadata": {},
   "source": [
    "## 1. Python Library and Package Imports\n",
    "\n",
    "Feel free to bring in any of your own custom packages in the labeled section below"
   ]
  },
  {
   "cell_type": "code",
   "execution_count": 1,
   "metadata": {
    "scrolled": true
   },
   "outputs": [],
   "source": [
    "# Import data management tools\n",
    "import pandas as pd"
   ]
  },
  {
   "cell_type": "markdown",
   "metadata": {},
   "source": [
    "## 2. Read in Data\n",
    "\n",
    "See if you can read in the dataframe using Pandas. Feel free to use Google.com and Stack Overflow for help. The filepath is listed below.\n",
    "\n",
    "https://raw.githubusercontent.com/jswortz/UIC_Clustering_Code_2019/master/data/WA_Fn-UseC_-HR-Employee-Attrition.csv\n",
    "\n",
    "**EXERCISE:** Please read in the data to the variable named df (shorthand for DataFrame), then double check that it imported successfully. Run the cell below your input and verify there are 1470 rows and 35 columns"
   ]
  },
  {
   "cell_type": "code",
   "execution_count": 2,
   "metadata": {},
   "outputs": [],
   "source": [
    "#WRITE YOUR CODE HERE TO READ IN DATA\n",
    "df = pd.read_csv(\"https://raw.githubusercontent.com/jswortz/UIC_Clustering_Code_2019/master/data/WA_Fn-UseC_-HR-Employee-Attrition.csv\")"
   ]
  },
  {
   "cell_type": "code",
   "execution_count": 3,
   "metadata": {},
   "outputs": [
    {
     "data": {
      "text/plain": [
       "'Data Shape: 1470 rows x 35 cols'"
      ]
     },
     "execution_count": 3,
     "metadata": {},
     "output_type": "execute_result"
    }
   ],
   "source": [
    "#Verify the data shape\n",
    "(\"Data Shape: {} rows x {} cols\".format(len(df), len(df.columns)))"
   ]
  },
  {
   "cell_type": "markdown",
   "metadata": {},
   "source": [
    "## 3. Check Data Quality\n",
    "\n",
    "The first thing to do after reading in the data and doing EDA (shown in previous notebook) is checking data quality. Machine Learning models are very sensitive and intolerant of ill-formatted or missing data. Therefore, the following exercises will allow us to better grasp the data quality itself. \n",
    "\n",
    "**EXERCISE:** See if you can find a snappy command to view any missing values in the dataframe, by column name."
   ]
  },
  {
   "cell_type": "code",
   "execution_count": 4,
   "metadata": {},
   "outputs": [
    {
     "data": {
      "text/plain": [
       "Age                         0\n",
       "Attrition                   0\n",
       "BusinessTravel              0\n",
       "DailyRate                   0\n",
       "Department                  0\n",
       "DistanceFromHome            0\n",
       "Education                   0\n",
       "EducationField              0\n",
       "EmployeeCount               0\n",
       "EmployeeNumber              0\n",
       "EnvironmentSatisfaction     0\n",
       "Gender                      0\n",
       "HourlyRate                  0\n",
       "JobInvolvement              0\n",
       "JobLevel                    0\n",
       "JobRole                     0\n",
       "JobSatisfaction             0\n",
       "MaritalStatus               0\n",
       "MonthlyIncome               0\n",
       "MonthlyRate                 0\n",
       "NumCompaniesWorked          0\n",
       "Over18                      0\n",
       "OverTime                    0\n",
       "PercentSalaryHike           0\n",
       "PerformanceRating           0\n",
       "RelationshipSatisfaction    0\n",
       "StandardHours               0\n",
       "StockOptionLevel            0\n",
       "TotalWorkingYears           0\n",
       "TrainingTimesLastYear       0\n",
       "WorkLifeBalance             0\n",
       "YearsAtCompany              0\n",
       "YearsInCurrentRole          0\n",
       "YearsSinceLastPromotion     0\n",
       "YearsWithCurrManager        0\n",
       "dtype: int64"
      ]
     },
     "execution_count": 4,
     "metadata": {},
     "output_type": "execute_result"
    }
   ],
   "source": [
    "# WRITE YOUR CODE HERE TO CHECK FOR NULL DATA\n",
    "df.isnull().sum()"
   ]
  },
  {
   "cell_type": "markdown",
   "metadata": {},
   "source": [
    "Lucky us! As you can see there is no missing data. Now, we need to determine what data type each column is. This will help us determine what columns we should drop and which need manipulation to be better for modeling.\n",
    "\n",
    "**EXERCISE:** See if you can find a way to view the data type of each column, either by looking at a snapshot of the dataframe or by printing the data types."
   ]
  },
  {
   "cell_type": "code",
   "execution_count": 5,
   "metadata": {},
   "outputs": [
    {
     "data": {
      "text/html": [
       "<div>\n",
       "<style scoped>\n",
       "    .dataframe tbody tr th:only-of-type {\n",
       "        vertical-align: middle;\n",
       "    }\n",
       "\n",
       "    .dataframe tbody tr th {\n",
       "        vertical-align: top;\n",
       "    }\n",
       "\n",
       "    .dataframe thead th {\n",
       "        text-align: right;\n",
       "    }\n",
       "</style>\n",
       "<table border=\"1\" class=\"dataframe\">\n",
       "  <thead>\n",
       "    <tr style=\"text-align: right;\">\n",
       "      <th></th>\n",
       "      <th>Age</th>\n",
       "      <th>Attrition</th>\n",
       "      <th>BusinessTravel</th>\n",
       "      <th>DailyRate</th>\n",
       "      <th>Department</th>\n",
       "      <th>DistanceFromHome</th>\n",
       "      <th>Education</th>\n",
       "      <th>EducationField</th>\n",
       "      <th>EmployeeCount</th>\n",
       "      <th>EmployeeNumber</th>\n",
       "      <th>...</th>\n",
       "      <th>RelationshipSatisfaction</th>\n",
       "      <th>StandardHours</th>\n",
       "      <th>StockOptionLevel</th>\n",
       "      <th>TotalWorkingYears</th>\n",
       "      <th>TrainingTimesLastYear</th>\n",
       "      <th>WorkLifeBalance</th>\n",
       "      <th>YearsAtCompany</th>\n",
       "      <th>YearsInCurrentRole</th>\n",
       "      <th>YearsSinceLastPromotion</th>\n",
       "      <th>YearsWithCurrManager</th>\n",
       "    </tr>\n",
       "  </thead>\n",
       "  <tbody>\n",
       "    <tr>\n",
       "      <th>0</th>\n",
       "      <td>41</td>\n",
       "      <td>Yes</td>\n",
       "      <td>Travel_Rarely</td>\n",
       "      <td>1102</td>\n",
       "      <td>Sales</td>\n",
       "      <td>1</td>\n",
       "      <td>2</td>\n",
       "      <td>Life Sciences</td>\n",
       "      <td>1</td>\n",
       "      <td>1</td>\n",
       "      <td>...</td>\n",
       "      <td>1</td>\n",
       "      <td>80</td>\n",
       "      <td>0</td>\n",
       "      <td>8</td>\n",
       "      <td>0</td>\n",
       "      <td>1</td>\n",
       "      <td>6</td>\n",
       "      <td>4</td>\n",
       "      <td>0</td>\n",
       "      <td>5</td>\n",
       "    </tr>\n",
       "    <tr>\n",
       "      <th>1</th>\n",
       "      <td>49</td>\n",
       "      <td>No</td>\n",
       "      <td>Travel_Frequently</td>\n",
       "      <td>279</td>\n",
       "      <td>Research &amp; Development</td>\n",
       "      <td>8</td>\n",
       "      <td>1</td>\n",
       "      <td>Life Sciences</td>\n",
       "      <td>1</td>\n",
       "      <td>2</td>\n",
       "      <td>...</td>\n",
       "      <td>4</td>\n",
       "      <td>80</td>\n",
       "      <td>1</td>\n",
       "      <td>10</td>\n",
       "      <td>3</td>\n",
       "      <td>3</td>\n",
       "      <td>10</td>\n",
       "      <td>7</td>\n",
       "      <td>1</td>\n",
       "      <td>7</td>\n",
       "    </tr>\n",
       "    <tr>\n",
       "      <th>2</th>\n",
       "      <td>37</td>\n",
       "      <td>Yes</td>\n",
       "      <td>Travel_Rarely</td>\n",
       "      <td>1373</td>\n",
       "      <td>Research &amp; Development</td>\n",
       "      <td>2</td>\n",
       "      <td>2</td>\n",
       "      <td>Other</td>\n",
       "      <td>1</td>\n",
       "      <td>4</td>\n",
       "      <td>...</td>\n",
       "      <td>2</td>\n",
       "      <td>80</td>\n",
       "      <td>0</td>\n",
       "      <td>7</td>\n",
       "      <td>3</td>\n",
       "      <td>3</td>\n",
       "      <td>0</td>\n",
       "      <td>0</td>\n",
       "      <td>0</td>\n",
       "      <td>0</td>\n",
       "    </tr>\n",
       "    <tr>\n",
       "      <th>3</th>\n",
       "      <td>33</td>\n",
       "      <td>No</td>\n",
       "      <td>Travel_Frequently</td>\n",
       "      <td>1392</td>\n",
       "      <td>Research &amp; Development</td>\n",
       "      <td>3</td>\n",
       "      <td>4</td>\n",
       "      <td>Life Sciences</td>\n",
       "      <td>1</td>\n",
       "      <td>5</td>\n",
       "      <td>...</td>\n",
       "      <td>3</td>\n",
       "      <td>80</td>\n",
       "      <td>0</td>\n",
       "      <td>8</td>\n",
       "      <td>3</td>\n",
       "      <td>3</td>\n",
       "      <td>8</td>\n",
       "      <td>7</td>\n",
       "      <td>3</td>\n",
       "      <td>0</td>\n",
       "    </tr>\n",
       "    <tr>\n",
       "      <th>4</th>\n",
       "      <td>27</td>\n",
       "      <td>No</td>\n",
       "      <td>Travel_Rarely</td>\n",
       "      <td>591</td>\n",
       "      <td>Research &amp; Development</td>\n",
       "      <td>2</td>\n",
       "      <td>1</td>\n",
       "      <td>Medical</td>\n",
       "      <td>1</td>\n",
       "      <td>7</td>\n",
       "      <td>...</td>\n",
       "      <td>4</td>\n",
       "      <td>80</td>\n",
       "      <td>1</td>\n",
       "      <td>6</td>\n",
       "      <td>3</td>\n",
       "      <td>3</td>\n",
       "      <td>2</td>\n",
       "      <td>2</td>\n",
       "      <td>2</td>\n",
       "      <td>2</td>\n",
       "    </tr>\n",
       "  </tbody>\n",
       "</table>\n",
       "<p>5 rows × 35 columns</p>\n",
       "</div>"
      ],
      "text/plain": [
       "   Age Attrition     BusinessTravel  DailyRate              Department  \\\n",
       "0   41       Yes      Travel_Rarely       1102                   Sales   \n",
       "1   49        No  Travel_Frequently        279  Research & Development   \n",
       "2   37       Yes      Travel_Rarely       1373  Research & Development   \n",
       "3   33        No  Travel_Frequently       1392  Research & Development   \n",
       "4   27        No      Travel_Rarely        591  Research & Development   \n",
       "\n",
       "   DistanceFromHome  Education EducationField  EmployeeCount  EmployeeNumber  \\\n",
       "0                 1          2  Life Sciences              1               1   \n",
       "1                 8          1  Life Sciences              1               2   \n",
       "2                 2          2          Other              1               4   \n",
       "3                 3          4  Life Sciences              1               5   \n",
       "4                 2          1        Medical              1               7   \n",
       "\n",
       "   ...  RelationshipSatisfaction StandardHours  StockOptionLevel  \\\n",
       "0  ...                         1            80                 0   \n",
       "1  ...                         4            80                 1   \n",
       "2  ...                         2            80                 0   \n",
       "3  ...                         3            80                 0   \n",
       "4  ...                         4            80                 1   \n",
       "\n",
       "   TotalWorkingYears  TrainingTimesLastYear WorkLifeBalance  YearsAtCompany  \\\n",
       "0                  8                      0               1               6   \n",
       "1                 10                      3               3              10   \n",
       "2                  7                      3               3               0   \n",
       "3                  8                      3               3               8   \n",
       "4                  6                      3               3               2   \n",
       "\n",
       "  YearsInCurrentRole  YearsSinceLastPromotion  YearsWithCurrManager  \n",
       "0                  4                        0                     5  \n",
       "1                  7                        1                     7  \n",
       "2                  0                        0                     0  \n",
       "3                  7                        3                     0  \n",
       "4                  2                        2                     2  \n",
       "\n",
       "[5 rows x 35 columns]"
      ]
     },
     "execution_count": 5,
     "metadata": {},
     "output_type": "execute_result"
    }
   ],
   "source": [
    "#PRINT THE TOP FIVE ROWS OF THE DATAFRAME HERE\n",
    "df.head()"
   ]
  },
  {
   "cell_type": "code",
   "execution_count": 6,
   "metadata": {},
   "outputs": [
    {
     "data": {
      "text/plain": [
       "Age                          int64\n",
       "Attrition                   object\n",
       "BusinessTravel              object\n",
       "DailyRate                    int64\n",
       "Department                  object\n",
       "DistanceFromHome             int64\n",
       "Education                    int64\n",
       "EducationField              object\n",
       "EmployeeCount                int64\n",
       "EmployeeNumber               int64\n",
       "EnvironmentSatisfaction      int64\n",
       "Gender                      object\n",
       "HourlyRate                   int64\n",
       "JobInvolvement               int64\n",
       "JobLevel                     int64\n",
       "JobRole                     object\n",
       "JobSatisfaction              int64\n",
       "MaritalStatus               object\n",
       "MonthlyIncome                int64\n",
       "MonthlyRate                  int64\n",
       "NumCompaniesWorked           int64\n",
       "Over18                      object\n",
       "OverTime                    object\n",
       "PercentSalaryHike            int64\n",
       "PerformanceRating            int64\n",
       "RelationshipSatisfaction     int64\n",
       "StandardHours                int64\n",
       "StockOptionLevel             int64\n",
       "TotalWorkingYears            int64\n",
       "TrainingTimesLastYear        int64\n",
       "WorkLifeBalance              int64\n",
       "YearsAtCompany               int64\n",
       "YearsInCurrentRole           int64\n",
       "YearsSinceLastPromotion      int64\n",
       "YearsWithCurrManager         int64\n",
       "dtype: object"
      ]
     },
     "execution_count": 6,
     "metadata": {},
     "output_type": "execute_result"
    }
   ],
   "source": [
    "#PRINT THE DATA TYPES, BY COLUMN, of THE DATAFRAME HERE\n",
    "df.dtypes"
   ]
  },
  {
   "cell_type": "markdown",
   "metadata": {},
   "source": [
    "Interesting. There are several fields with a data type of \"object\". Use your data engineering skills to further understand what they are.\n",
    "\n",
    "**EXERCISE:** First, list out the names of all the columns with a data type of `object`. Then, show a snapshot of the dataframe for all of these columns and only these columns."
   ]
  },
  {
   "cell_type": "code",
   "execution_count": 7,
   "metadata": {},
   "outputs": [
    {
     "data": {
      "text/plain": [
       "Index(['Attrition', 'BusinessTravel', 'Department', 'EducationField', 'Gender',\n",
       "       'JobRole', 'MaritalStatus', 'Over18', 'OverTime'],\n",
       "      dtype='object')"
      ]
     },
     "execution_count": 7,
     "metadata": {},
     "output_type": "execute_result"
    }
   ],
   "source": [
    "#WRITE YOUR CODE HERE FOR OBJECT DATA TYPE COLUMNS\n",
    "df.select_dtypes(object).columns"
   ]
  },
  {
   "cell_type": "code",
   "execution_count": 8,
   "metadata": {},
   "outputs": [
    {
     "data": {
      "text/html": [
       "<div>\n",
       "<style scoped>\n",
       "    .dataframe tbody tr th:only-of-type {\n",
       "        vertical-align: middle;\n",
       "    }\n",
       "\n",
       "    .dataframe tbody tr th {\n",
       "        vertical-align: top;\n",
       "    }\n",
       "\n",
       "    .dataframe thead th {\n",
       "        text-align: right;\n",
       "    }\n",
       "</style>\n",
       "<table border=\"1\" class=\"dataframe\">\n",
       "  <thead>\n",
       "    <tr style=\"text-align: right;\">\n",
       "      <th></th>\n",
       "      <th>Attrition</th>\n",
       "      <th>BusinessTravel</th>\n",
       "      <th>Department</th>\n",
       "      <th>EducationField</th>\n",
       "      <th>Gender</th>\n",
       "      <th>JobRole</th>\n",
       "      <th>MaritalStatus</th>\n",
       "      <th>Over18</th>\n",
       "      <th>OverTime</th>\n",
       "    </tr>\n",
       "  </thead>\n",
       "  <tbody>\n",
       "    <tr>\n",
       "      <th>0</th>\n",
       "      <td>Yes</td>\n",
       "      <td>Travel_Rarely</td>\n",
       "      <td>Sales</td>\n",
       "      <td>Life Sciences</td>\n",
       "      <td>Female</td>\n",
       "      <td>Sales Executive</td>\n",
       "      <td>Single</td>\n",
       "      <td>Y</td>\n",
       "      <td>Yes</td>\n",
       "    </tr>\n",
       "    <tr>\n",
       "      <th>1</th>\n",
       "      <td>No</td>\n",
       "      <td>Travel_Frequently</td>\n",
       "      <td>Research &amp; Development</td>\n",
       "      <td>Life Sciences</td>\n",
       "      <td>Male</td>\n",
       "      <td>Research Scientist</td>\n",
       "      <td>Married</td>\n",
       "      <td>Y</td>\n",
       "      <td>No</td>\n",
       "    </tr>\n",
       "    <tr>\n",
       "      <th>2</th>\n",
       "      <td>Yes</td>\n",
       "      <td>Travel_Rarely</td>\n",
       "      <td>Research &amp; Development</td>\n",
       "      <td>Other</td>\n",
       "      <td>Male</td>\n",
       "      <td>Laboratory Technician</td>\n",
       "      <td>Single</td>\n",
       "      <td>Y</td>\n",
       "      <td>Yes</td>\n",
       "    </tr>\n",
       "    <tr>\n",
       "      <th>3</th>\n",
       "      <td>No</td>\n",
       "      <td>Travel_Frequently</td>\n",
       "      <td>Research &amp; Development</td>\n",
       "      <td>Life Sciences</td>\n",
       "      <td>Female</td>\n",
       "      <td>Research Scientist</td>\n",
       "      <td>Married</td>\n",
       "      <td>Y</td>\n",
       "      <td>Yes</td>\n",
       "    </tr>\n",
       "    <tr>\n",
       "      <th>4</th>\n",
       "      <td>No</td>\n",
       "      <td>Travel_Rarely</td>\n",
       "      <td>Research &amp; Development</td>\n",
       "      <td>Medical</td>\n",
       "      <td>Male</td>\n",
       "      <td>Laboratory Technician</td>\n",
       "      <td>Married</td>\n",
       "      <td>Y</td>\n",
       "      <td>No</td>\n",
       "    </tr>\n",
       "  </tbody>\n",
       "</table>\n",
       "</div>"
      ],
      "text/plain": [
       "  Attrition     BusinessTravel              Department EducationField  Gender  \\\n",
       "0       Yes      Travel_Rarely                   Sales  Life Sciences  Female   \n",
       "1        No  Travel_Frequently  Research & Development  Life Sciences    Male   \n",
       "2       Yes      Travel_Rarely  Research & Development          Other    Male   \n",
       "3        No  Travel_Frequently  Research & Development  Life Sciences  Female   \n",
       "4        No      Travel_Rarely  Research & Development        Medical    Male   \n",
       "\n",
       "                 JobRole MaritalStatus Over18 OverTime  \n",
       "0        Sales Executive        Single      Y      Yes  \n",
       "1     Research Scientist       Married      Y       No  \n",
       "2  Laboratory Technician        Single      Y      Yes  \n",
       "3     Research Scientist       Married      Y      Yes  \n",
       "4  Laboratory Technician       Married      Y       No  "
      ]
     },
     "execution_count": 8,
     "metadata": {},
     "output_type": "execute_result"
    }
   ],
   "source": [
    "#PRINT A SNAPSHOT OF ALL OBJECT FIELDS IN DATAFRAME\n",
    "df.loc[:,df.select_dtypes(object).columns].head()"
   ]
  },
  {
   "cell_type": "markdown",
   "metadata": {},
   "source": [
    "**EXERCISE:** Finally, fill out the following forms for each data type. Consider the following definitions for each, and take your time. This is very important for doing feature engineering correctly. Think about what the significance of a data type and its representation may have on a model.\n",
    "\n",
    " - **Categorical**: Often a string value. Different groups, or categories of objects (e.g. Cat, Dog, Mouse, ...)\n",
    " - **Numerically Discrete**: Countably infinite numerical values. Often integers.\n",
    " - **Numerically Continuous**: Numbers, but not countably infinite. Often float values.\n",
    " - **Boolean**: Yes or No values. Sometime represented as 1 or 0 **OR** as a two option categorial variable.\n",
    " - **Ordinal**: Categorial variables with proximal association. e.g.) small, medium, large **OR** level 1, 2, 3"
   ]
  },
  {
   "cell_type": "markdown",
   "metadata": {},
   "source": [
    "\n",
    "| Column Name | Potential Data Types |\n",
    "| :----------- | ---------------------|\n",
    "|**`Age`**$\\;\\;\\;\\;\\;\\;\\;\\;\\;\\;$   |   <input type=\"checkbox\" align = \"right\"> Categorical  $\\;\\;\\;\\;$ <input type=\"checkbox\" align = \"right\" checked> Numeric Discrete $\\;\\;\\;\\;$ <input type=\"checkbox\" align = \"right\"> Numeric Continuous $\\;\\;\\;\\;$ <input type=\"checkbox\" align = \"right\"> Boolean $\\;\\;\\;\\;$ <input type=\"checkbox\" align = \"right\"> Ordinal \n",
    "|\n",
    "|**`Attrition`**$\\;\\;\\;\\;\\;\\;\\;\\;\\;\\;$ |     <input type=\"checkbox\"> Categorical  $\\;\\;\\;\\;$ <input type=\"checkbox\"> Numeric Discrete $\\;\\;\\;\\;$ <input type=\"checkbox\"> Numeric Continuous $\\;\\;\\;\\;$ <input type=\"checkbox\" checked> Boolean $\\;\\;\\;\\;$ <input type=\"checkbox\"> Ordinal\n",
    "|\n",
    "|**`BusinessTravel`**$\\;\\;\\;\\;\\;\\;\\;\\;\\;\\;$ |     <input type=\"checkbox\" align = \"right\"> Categorical  $\\;\\;\\;\\;$ <input type=\"checkbox\" align = \"right\"> Numeric Discrete $\\;\\;\\;\\;$ <input type=\"checkbox\" align = \"right\"> Numeric Continuous $\\;\\;\\;\\;$ <input type=\"checkbox\" align = \"right\"> Boolean $\\;\\;\\;\\;$ <input type=\"checkbox\" align = \"right\" checked> Ordinal\n",
    "|\n",
    "|**`DailyRate`**$\\;\\;\\;\\;\\;\\;\\;\\;\\;\\;$   |   <input type=\"checkbox\" align = \"right\"> Categorical  $\\;\\;\\;\\;$ <input type=\"checkbox\" align = \"right\" checked> Numeric Discrete $\\;\\;\\;\\;$ <input type=\"checkbox\" align = \"right\"> Numeric Continuous $\\;\\;\\;\\;$ <input type=\"checkbox\" align = \"right\"> Boolean $\\;\\;\\;\\;$ <input type=\"checkbox\" align = \"right\"> Ordinal\n",
    "|\n",
    "|**`Department`**$\\;\\;\\;\\;\\;\\;\\;\\;\\;\\;$ |     <input type=\"checkbox\" align = \"right\" checked> Categorical  $\\;\\;\\;\\;$ <input type=\"checkbox\" align = \"right\"> Numeric Discrete $\\;\\;\\;\\;$ <input type=\"checkbox\" align = \"right\"> Numeric Continuous $\\;\\;\\;\\;$ <input type=\"checkbox\" align = \"right\"> Boolean $\\;\\;\\;\\;$ <input type=\"checkbox\" align = \"right\"> Ordinal\n",
    "|\n",
    "|**`DistanceFromHome`**$\\;\\;\\;\\;\\;\\;\\;\\;\\;\\;$   |   <input type=\"checkbox\" align = \"right\"> Categorical  $\\;\\;\\;\\;$ <input type=\"checkbox\" align = \"right\" checked> Numeric Discrete $\\;\\;\\;\\;$ <input type=\"checkbox\" align = \"right\"> Numeric Continuous $\\;\\;\\;\\;$ <input type=\"checkbox\" align = \"right\"> Boolean $\\;\\;\\;\\;$ <input type=\"checkbox\" align = \"right\"> Ordinal\n",
    "|\n",
    "|**`Education`**$\\;\\;\\;\\;\\;\\;\\;\\;\\;\\;$    |  <input type=\"checkbox\" align = \"right\"> Categorical  $\\;\\;\\;\\;$ <input type=\"checkbox\" align = \"right\"> Numeric Discrete $\\;\\;\\;\\;$ <input type=\"checkbox\" align = \"right\"> Numeric Continuous $\\;\\;\\;\\;$ <input type=\"checkbox\" align = \"right\"> Boolean $\\;\\;\\;\\;$ <input type=\"checkbox\" align = \"right\" checked> Ordinal\n",
    "|\n",
    "|**`EducationField`**$\\;\\;\\;\\;\\;\\;\\;\\;\\;\\;$  |    <input type=\"checkbox\" align = \"right\" checked> Categorical  $\\;\\;\\;\\;$ <input type=\"checkbox\" align = \"right\"> Numeric Discrete $\\;\\;\\;\\;$ <input type=\"checkbox\" align = \"right\"> Numeric Continuous $\\;\\;\\;\\;$ <input type=\"checkbox\" align = \"right\"> Boolean $\\;\\;\\;\\;$ <input type=\"checkbox\" align = \"right\"> Ordinal\n",
    "|\n",
    "|**`EmployeeCount`**$\\;\\;\\;\\;\\;\\;\\;\\;\\;\\;$   |   <input type=\"checkbox\" align = \"right\"> Categorical  $\\;\\;\\;\\;$ <input type=\"checkbox\" align = \"right\" checked> Numeric Discrete $\\;\\;\\;\\;$ <input type=\"checkbox\" align = \"right\"> Numeric Continuous $\\;\\;\\;\\;$ <input type=\"checkbox\" align = \"right\"> Boolean $\\;\\;\\;\\;$ <input type=\"checkbox\" align = \"right\"> Ordinal\n",
    "|\n",
    "|**`EmployeeNumber`**$\\;\\;\\;\\;\\;\\;\\;\\;\\;\\;$   |   <input type=\"checkbox\" align = \"right\"> Categorical  $\\;\\;\\;\\;$ <input type=\"checkbox\" align = \"right\" checked> Numeric Discrete $\\;\\;\\;\\;$ <input type=\"checkbox\" align = \"right\"> Numeric Continuous $\\;\\;\\;\\;$ <input type=\"checkbox\" align = \"right\"> Boolean $\\;\\;\\;\\;$ <input type=\"checkbox\" align = \"right\"> Ordinal\n",
    "|\n",
    "|**`EnvironmentSatisfaction`**$\\;\\;\\;\\;\\;\\;\\;\\;\\;\\;$  |    <input type=\"checkbox\" align = \"right\"> Categorical  $\\;\\;\\;\\;$ <input type=\"checkbox\" align = \"right\" checked> Numeric Discrete $\\;\\;\\;\\;$ <input type=\"checkbox\" align = \"right\"> Numeric Continuous $\\;\\;\\;\\;$ <input type=\"checkbox\" align = \"right\"> Boolean $\\;\\;\\;\\;$ <input type=\"checkbox\" align = \"right\"> Ordinal\n",
    "|\n",
    "|**`Gender`**$\\;\\;\\;\\;\\;\\;\\;\\;\\;\\;$   |   <input type=\"checkbox\" align = \"right\"> Categorical  $\\;\\;\\;\\;$ <input type=\"checkbox\" align = \"right\"> Numeric Discrete $\\;\\;\\;\\;$ <input type=\"checkbox\" align = \"right\"> Numeric Continuous $\\;\\;\\;\\;$ <input type=\"checkbox\" align = \"right\" checked> Boolean $\\;\\;\\;\\;$ <input type=\"checkbox\" align = \"right\"> Ordinal\n",
    "|\n",
    "|**`HourlyRate`**$\\;\\;\\;\\;\\;\\;\\;\\;\\;\\;$  |    <input type=\"checkbox\" align = \"right\"> Categorical  $\\;\\;\\;\\;$ <input type=\"checkbox\" align = \"right\" checked> Numeric Discrete $\\;\\;\\;\\;$ <input type=\"checkbox\" align = \"right\"> Numeric Continuous $\\;\\;\\;\\;$ <input type=\"checkbox\" align = \"right\"> Boolean $\\;\\;\\;\\;$ <input type=\"checkbox\" align = \"right\"> Ordinal\n",
    "|\n",
    "|**`JobInvolvement`**$\\;\\;\\;\\;\\;\\;\\;\\;\\;\\;$ |     <input type=\"checkbox\" align = \"right\"> Categorical  $\\;\\;\\;\\;$ <input type=\"checkbox\" align = \"right\" checked> Numeric Discrete $\\;\\;\\;\\;$ <input type=\"checkbox\" align = \"right\"> Numeric Continuous $\\;\\;\\;\\;$ <input type=\"checkbox\" align = \"right\"> Boolean $\\;\\;\\;\\;$ <input type=\"checkbox\" align = \"right\"> Ordinal\n",
    "|\n",
    "|**`JobLevel`**$\\;\\;\\;\\;\\;\\;\\;\\;\\;\\;$   |   <input type=\"checkbox\" align = \"right\"> Categorical  $\\;\\;\\;\\;$ <input type=\"checkbox\" align = \"right\"> Numeric Discrete $\\;\\;\\;\\;$ <input type=\"checkbox\" align = \"right\"> Numeric Continuous $\\;\\;\\;\\;$ <input type=\"checkbox\" align = \"right\"> Boolean $\\;\\;\\;\\;$ <input type=\"checkbox\" align = \"right\" checked> Ordinal\n",
    "|\n",
    "|**`JobRole`**$\\;\\;\\;\\;\\;\\;\\;\\;\\;\\;$  |    <input type=\"checkbox\" align = \"right\" checked> Categorical  $\\;\\;\\;\\;$ <input type=\"checkbox\" align = \"right\"> Numeric Discrete $\\;\\;\\;\\;$ <input type=\"checkbox\" align = \"right\"> Numeric Continuous $\\;\\;\\;\\;$ <input type=\"checkbox\" align = \"right\"> Boolean $\\;\\;\\;\\;$ <input type=\"checkbox\" align = \"right\"> Ordinal\n",
    "|\n",
    "|**`JobSatisfaction`**$\\;\\;\\;\\;\\;\\;\\;\\;\\;\\;$  |    <input type=\"checkbox\" align = \"right\"> Categorical  $\\;\\;\\;\\;$ <input type=\"checkbox\" align = \"right\" checked> Numeric Discrete $\\;\\;\\;\\;$ <input type=\"checkbox\" align = \"right\"> Numeric Continuous $\\;\\;\\;\\;$ <input type=\"checkbox\" align = \"right\"> Boolean $\\;\\;\\;\\;$ <input type=\"checkbox\" align = \"right\"> Ordinal\n",
    "|\n",
    "|**`MaritalStatus`**$\\;\\;\\;\\;\\;\\;\\;\\;\\;\\;$   |   <input type=\"checkbox\" align = \"right\" checked> Categorical  $\\;\\;\\;\\;$ <input type=\"checkbox\" align = \"right\"> Numeric Discrete $\\;\\;\\;\\;$ <input type=\"checkbox\" align = \"right\"> Numeric Continuous $\\;\\;\\;\\;$ <input type=\"checkbox\" align = \"right\"> Boolean $\\;\\;\\;\\;$ <input type=\"checkbox\" align = \"right\"> Ordinal\n",
    "|\n",
    "|**`MonthlyIncome`**$\\;\\;\\;\\;\\;\\;\\;\\;\\;\\;$  |    <input type=\"checkbox\" align = \"right\"> Categorical  $\\;\\;\\;\\;$ <input type=\"checkbox\" align = \"right\" checked> Numeric Discrete $\\;\\;\\;\\;$ <input type=\"checkbox\" align = \"right\"> Numeric Continuous $\\;\\;\\;\\;$ <input type=\"checkbox\" align = \"right\"> Boolean $\\;\\;\\;\\;$ <input type=\"checkbox\" align = \"right\"> Ordinal\n",
    "|\n",
    "|**`MonthlyRate`**$\\;\\;\\;\\;\\;\\;\\;\\;\\;\\;$  |    <input type=\"checkbox\" align = \"right\"> Categorical  $\\;\\;\\;\\;$ <input type=\"checkbox\" align = \"right\" checked> Numeric Discrete $\\;\\;\\;\\;$ <input type=\"checkbox\" align = \"right\"> Numeric Continuous $\\;\\;\\;\\;$ <input type=\"checkbox\" align = \"right\"> Boolean $\\;\\;\\;\\;$ <input type=\"checkbox\" align = \"right\"> Ordinal\n",
    "|\n",
    "|**`NumCompaniesWorked`**$\\;\\;\\;\\;\\;\\;\\;\\;\\;\\;$  |    <input type=\"checkbox\" align = \"right\"> Categorical  $\\;\\;\\;\\;$ <input type=\"checkbox\" align = \"right\" checked> Numeric Discrete $\\;\\;\\;\\;$ <input type=\"checkbox\" align = \"right\"> Numeric Continuous $\\;\\;\\;\\;$ <input type=\"checkbox\" align = \"right\"> Boolean $\\;\\;\\;\\;$ <input type=\"checkbox\" align = \"right\"> Ordinal\n",
    "|\n",
    "|**`Over18`**$\\;\\;\\;\\;\\;\\;\\;\\;\\;\\;$ |     <input type=\"checkbox\" align = \"right\"> Categorical  $\\;\\;\\;\\;$ <input type=\"checkbox\" align = \"right\"> Numeric Discrete $\\;\\;\\;\\;$ <input type=\"checkbox\" align = \"right\"> Numeric Continuous $\\;\\;\\;\\;$ <input type=\"checkbox\" align = \"right\" checked> Boolean $\\;\\;\\;\\;$ <input type=\"checkbox\" align = \"right\"> Ordinal\n",
    "|\n",
    "|**`OverTime`**$\\;\\;\\;\\;\\;\\;\\;\\;\\;\\;$    |  <input type=\"checkbox\" align = \"right\"> Categorical  $\\;\\;\\;\\;$ <input type=\"checkbox\" align = \"right\"> Numeric Discrete $\\;\\;\\;\\;$ <input type=\"checkbox\" align = \"right\"> Numeric Continuous $\\;\\;\\;\\;$ <input type=\"checkbox\" align = \"right\" checked> Boolean $\\;\\;\\;\\;$ <input type=\"checkbox\" align = \"right\"> Ordinal\n",
    "|\n",
    "|**`PercentSalaryHike`**$\\;\\;\\;\\;\\;\\;\\;\\;\\;\\;$   |   <input type=\"checkbox\" align = \"right\"> Categorical  $\\;\\;\\;\\;$ <input type=\"checkbox\" align = \"right\" checked> Numeric Discrete $\\;\\;\\;\\;$ <input type=\"checkbox\" align = \"right\"> Numeric Continuous $\\;\\;\\;\\;$ <input type=\"checkbox\" align = \"right\"> Boolean $\\;\\;\\;\\;$ <input type=\"checkbox\" align = \"right\"> Ordinal\n",
    "|\n",
    "|**`PerformanceRating`**$\\;\\;\\;\\;\\;\\;\\;\\;\\;\\;$  |    <input type=\"checkbox\" align = \"right\"> Categorical  $\\;\\;\\;\\;$ <input type=\"checkbox\" align = \"right\" checked> Numeric Discrete $\\;\\;\\;\\;$ <input type=\"checkbox\" align = \"right\"> Numeric Continuous $\\;\\;\\;\\;$ <input type=\"checkbox\" align = \"right\"> Boolean $\\;\\;\\;\\;$ <input type=\"checkbox\" align = \"right\"> Ordinal\n",
    "|\n",
    "|**`RelationshipSatisfaction`**$\\;\\;\\;\\;\\;\\;\\;\\;\\;\\;$  |    <input type=\"checkbox\" align = \"right\"> Categorical  $\\;\\;\\;\\;$ <input type=\"checkbox\" align = \"right\" checked> Numeric Discrete $\\;\\;\\;\\;$ <input type=\"checkbox\" align = \"right\"> Numeric Continuous $\\;\\;\\;\\;$ <input type=\"checkbox\" align = \"right\"> Boolean $\\;\\;\\;\\;$ <input type=\"checkbox\" align = \"right\"> Ordinal\n",
    "|\n",
    "|**`StandardHours`**$\\;\\;\\;\\;\\;\\;\\;\\;\\;\\;$    |  <input type=\"checkbox\" align = \"right\"> Categorical  $\\;\\;\\;\\;$ <input type=\"checkbox\" align = \"right\" checked> Numeric Discrete $\\;\\;\\;\\;$ <input type=\"checkbox\" align = \"right\"> Numeric Continuous $\\;\\;\\;\\;$ <input type=\"checkbox\" align = \"right\"> Boolean $\\;\\;\\;\\;$ <input type=\"checkbox\" align = \"right\"> Ordinal\n",
    "|\n",
    "|**`StockOptionLevel`**$\\;\\;\\;\\;\\;\\;\\;\\;\\;\\;$  |    <input type=\"checkbox\" align = \"right\"> Categorical  $\\;\\;\\;\\;$ <input type=\"checkbox\" align = \"right\"> Numeric Discrete $\\;\\;\\;\\;$ <input type=\"checkbox\" align = \"right\"> Numeric Continuous $\\;\\;\\;\\;$ <input type=\"checkbox\" align = \"right\"> Boolean $\\;\\;\\;\\;$ <input type=\"checkbox\" align = \"right\" checked> Ordinal\n",
    "|\n",
    "|**`TotalWorkingYears`**$\\;\\;\\;\\;\\;\\;\\;\\;\\;\\;$  |    <input type=\"checkbox\" align = \"right\"> Categorical  $\\;\\;\\;\\;$ <input type=\"checkbox\" align = \"right\" checked> Numeric Discrete $\\;\\;\\;\\;$ <input type=\"checkbox\" align = \"right\"> Numeric Continuous $\\;\\;\\;\\;$ <input type=\"checkbox\" align = \"right\"> Boolean $\\;\\;\\;\\;$ <input type=\"checkbox\" align = \"right\"> Ordinal\n",
    "|\n",
    "|**`TrainingTimesLastYear`**$\\;\\;\\;\\;\\;\\;\\;\\;\\;\\;$  |    <input type=\"checkbox\" align = \"right\"> Categorical  $\\;\\;\\;\\;$ <input type=\"checkbox\" align = \"right\" checked> Numeric Discrete $\\;\\;\\;\\;$ <input type=\"checkbox\" align = \"right\"> Numeric Continuous $\\;\\;\\;\\;$ <input type=\"checkbox\" align = \"right\"> Boolean $\\;\\;\\;\\;$ <input type=\"checkbox\" align = \"right\"> Ordinal\n",
    "|\n",
    "|**`WorkLifeBalance`**$\\;\\;\\;\\;\\;\\;\\;\\;\\;\\;$   |   <input type=\"checkbox\" align = \"right\"> Categorical  $\\;\\;\\;\\;$ <input type=\"checkbox\" align = \"right\" checked> Numeric Discrete $\\;\\;\\;\\;$ <input type=\"checkbox\" align = \"right\"> Numeric Continuous $\\;\\;\\;\\;$ <input type=\"checkbox\" align = \"right\"> Boolean $\\;\\;\\;\\;$ <input type=\"checkbox\" align = \"right\"> Ordinal\n",
    "|\n",
    "|**`YearsAtCompany`**$\\;\\;\\;\\;\\;\\;\\;\\;\\;\\;$  |    <input type=\"checkbox\" align = \"right\"> Categorical  $\\;\\;\\;\\;$ <input type=\"checkbox\" align = \"right\" checked> Numeric Discrete $\\;\\;\\;\\;$ <input type=\"checkbox\" align = \"right\"> Numeric Continuous $\\;\\;\\;\\;$ <input type=\"checkbox\" align = \"right\"> Boolean $\\;\\;\\;\\;$ <input type=\"checkbox\" align = \"right\"> Ordinal\n",
    "|\n",
    "|**`YearsInCurrentRole`**$\\;\\;\\;\\;\\;\\;\\;\\;\\;\\;$   |   <input type=\"checkbox\" align = \"right\"> Categorical  $\\;\\;\\;\\;$ <input type=\"checkbox\" align = \"right\" checked> Numeric Discrete $\\;\\;\\;\\;$ <input type=\"checkbox\" align = \"right\"> Numeric Continuous $\\;\\;\\;\\;$ <input type=\"checkbox\" align = \"right\"> Boolean $\\;\\;\\;\\;$ <input type=\"checkbox\" align = \"right\"> Ordinal\n",
    "|\n",
    "|**`YearsSinceLastPromotion`**   $\\;\\;\\;\\;\\;\\;\\;\\;\\;\\;$  |    <input type=\"checkbox\" align = \"right\"> Categorical  $\\;\\;\\;\\;$ <input type=\"checkbox\" align = \"right\" checked> Numeric Discrete $\\;\\;\\;\\;$ <input type=\"checkbox\" align = \"right\"> Numeric Continuous $\\;\\;\\;\\;$ <input type=\"checkbox\" align = \"right\"> Boolean $\\;\\;\\;\\;$ <input type=\"checkbox\" align = \"right\"> Ordinal\n",
    "|  \n",
    "|**`YearsWithCurrManager`**  $\\;\\;\\;\\;\\;\\;\\;\\;\\;\\;$   |   <input type=\"checkbox\" align = \"right\"> Categorical  $\\;\\;\\;\\;$ <input type=\"checkbox\" align = \"right\" checked> Numeric Discrete $\\;\\;\\;\\;$ <input type=\"checkbox\" align = \"right\"> Numeric Continuous $\\;\\;\\;\\;$ <input type=\"checkbox\" align = \"right\"> Boolean $\\;\\;\\;\\;$ <input type=\"checkbox\" align = \"right\"> Ordinal\n",
    "|      "
   ]
  },
  {
   "cell_type": "markdown",
   "metadata": {},
   "source": [
    "## 4. Feature Engineering\n",
    "\n",
    "Now that we have a good grasp for the data and its data types, we need to do the following to prepare for modeling.\n",
    "\n",
    "    1.) Determine what fields make sense to include for modeling. (What could reasonably impact attrition?)\n",
    "    2.) How should different data types be transformed to be conducive for modeling? \n",
    "    3.) Write the code necessary for creating a modeling dataset."
   ]
  },
  {
   "cell_type": "markdown",
   "metadata": {},
   "source": [
    "### 4.a. Dropping inapplicable fields\n",
    "\n",
    "We want to include everything that could even have the slightest impact on attrition, but leave out the remaining fields.\n",
    "\n",
    "**EXERCISE**: List the fields that you should remove and write a small description outlining your logic.\n",
    "\n",
    "LIST OF FIELDS TO REMOVE:\n",
    "\n",
    "- **EmployeeNumber** -- This is just an employees identification number and has nothing to do with attrition\n",
    "- **HourlyRate** -- Monthly rate is already provided, which documents the same thing (could switch with Monthly)\n",
    "- **DailyRate** -- Monthly rate is already provided, which documents the same thing (could switch with Monthly)\n",
    "        \n",
    "        \n",
    "**EXERCISE**: With your data to drop now defined, drop the columns while keeping the data in variable `df`. (**HINT**: There are three columns to drop)"
   ]
  },
  {
   "cell_type": "code",
   "execution_count": 9,
   "metadata": {},
   "outputs": [],
   "source": [
    "#WRITE CODE HERE TO DROP COLUMNS\n",
    "df.drop([\"EmployeeNumber\", \"HourlyRate\", \"DailyRate\"], axis = 1, inplace = True)"
   ]
  },
  {
   "cell_type": "markdown",
   "metadata": {},
   "source": [
    "### 4.b. Handling Categorical Data\n",
    "\n",
    "Categorical data is almost always represented with string data types. Mathematical models do not know how to process strings so as data scientists we must alias them and create dummy variables.\n",
    "\n",
    "**EXERCISE**: The function below is intended to create dummy variables of each categorical variable in the dataset, then combine all of the information into a single dataframe called `categorical_df`. Create a list of the categorical variables that need to be converted, then write the function call to convert them. Name the output variable `categorical_df`."
   ]
  },
  {
   "cell_type": "code",
   "execution_count": 10,
   "metadata": {},
   "outputs": [],
   "source": [
    "def create_categorical_df(data, column_names):\n",
    "    \n",
    "    categorical_df = None\n",
    "    \n",
    "    for categorical_column in column_names:\n",
    "        \n",
    "        #WRITE DUMMY VARIABLE FUNCTION HERE\n",
    "        categorical_dummies = pd.get_dummies(data[categorical_column])\n",
    "        \n",
    "        if categorical_df is None:\n",
    "            categorical_df = categorical_dummies\n",
    "            \n",
    "        else:\n",
    "            categorical_df = pd.concat([categorical_df, categorical_dummies], axis =1)\n",
    "    \n",
    "    return categorical_df"
   ]
  },
  {
   "cell_type": "code",
   "execution_count": 11,
   "metadata": {},
   "outputs": [],
   "source": [
    "#MAKE LIST OF CATEGORICAL COLUMN NAMES HERE\n",
    "categorical_names = ['Department', 'EducationField', 'JobRole', \"MaritalStatus\"]\n",
    "\n",
    "#MAKE FUNCTION CALL HERE TO MAKE CATEGORICAL DF\n",
    "categorical_df = create_categorical_df(df, categorical_names)"
   ]
  },
  {
   "cell_type": "markdown",
   "metadata": {},
   "source": [
    "**EXERCISE**: Verify you were successful by printing the head of the dataset"
   ]
  },
  {
   "cell_type": "code",
   "execution_count": 12,
   "metadata": {},
   "outputs": [
    {
     "data": {
      "text/html": [
       "<div>\n",
       "<style scoped>\n",
       "    .dataframe tbody tr th:only-of-type {\n",
       "        vertical-align: middle;\n",
       "    }\n",
       "\n",
       "    .dataframe tbody tr th {\n",
       "        vertical-align: top;\n",
       "    }\n",
       "\n",
       "    .dataframe thead th {\n",
       "        text-align: right;\n",
       "    }\n",
       "</style>\n",
       "<table border=\"1\" class=\"dataframe\">\n",
       "  <thead>\n",
       "    <tr style=\"text-align: right;\">\n",
       "      <th></th>\n",
       "      <th>Human Resources</th>\n",
       "      <th>Research &amp; Development</th>\n",
       "      <th>Sales</th>\n",
       "      <th>Human Resources</th>\n",
       "      <th>Life Sciences</th>\n",
       "      <th>Marketing</th>\n",
       "      <th>Medical</th>\n",
       "      <th>Other</th>\n",
       "      <th>Technical Degree</th>\n",
       "      <th>Healthcare Representative</th>\n",
       "      <th>...</th>\n",
       "      <th>Laboratory Technician</th>\n",
       "      <th>Manager</th>\n",
       "      <th>Manufacturing Director</th>\n",
       "      <th>Research Director</th>\n",
       "      <th>Research Scientist</th>\n",
       "      <th>Sales Executive</th>\n",
       "      <th>Sales Representative</th>\n",
       "      <th>Divorced</th>\n",
       "      <th>Married</th>\n",
       "      <th>Single</th>\n",
       "    </tr>\n",
       "  </thead>\n",
       "  <tbody>\n",
       "    <tr>\n",
       "      <th>0</th>\n",
       "      <td>0</td>\n",
       "      <td>0</td>\n",
       "      <td>1</td>\n",
       "      <td>0</td>\n",
       "      <td>1</td>\n",
       "      <td>0</td>\n",
       "      <td>0</td>\n",
       "      <td>0</td>\n",
       "      <td>0</td>\n",
       "      <td>0</td>\n",
       "      <td>...</td>\n",
       "      <td>0</td>\n",
       "      <td>0</td>\n",
       "      <td>0</td>\n",
       "      <td>0</td>\n",
       "      <td>0</td>\n",
       "      <td>1</td>\n",
       "      <td>0</td>\n",
       "      <td>0</td>\n",
       "      <td>0</td>\n",
       "      <td>1</td>\n",
       "    </tr>\n",
       "    <tr>\n",
       "      <th>1</th>\n",
       "      <td>0</td>\n",
       "      <td>1</td>\n",
       "      <td>0</td>\n",
       "      <td>0</td>\n",
       "      <td>1</td>\n",
       "      <td>0</td>\n",
       "      <td>0</td>\n",
       "      <td>0</td>\n",
       "      <td>0</td>\n",
       "      <td>0</td>\n",
       "      <td>...</td>\n",
       "      <td>0</td>\n",
       "      <td>0</td>\n",
       "      <td>0</td>\n",
       "      <td>0</td>\n",
       "      <td>1</td>\n",
       "      <td>0</td>\n",
       "      <td>0</td>\n",
       "      <td>0</td>\n",
       "      <td>1</td>\n",
       "      <td>0</td>\n",
       "    </tr>\n",
       "    <tr>\n",
       "      <th>2</th>\n",
       "      <td>0</td>\n",
       "      <td>1</td>\n",
       "      <td>0</td>\n",
       "      <td>0</td>\n",
       "      <td>0</td>\n",
       "      <td>0</td>\n",
       "      <td>0</td>\n",
       "      <td>1</td>\n",
       "      <td>0</td>\n",
       "      <td>0</td>\n",
       "      <td>...</td>\n",
       "      <td>1</td>\n",
       "      <td>0</td>\n",
       "      <td>0</td>\n",
       "      <td>0</td>\n",
       "      <td>0</td>\n",
       "      <td>0</td>\n",
       "      <td>0</td>\n",
       "      <td>0</td>\n",
       "      <td>0</td>\n",
       "      <td>1</td>\n",
       "    </tr>\n",
       "    <tr>\n",
       "      <th>3</th>\n",
       "      <td>0</td>\n",
       "      <td>1</td>\n",
       "      <td>0</td>\n",
       "      <td>0</td>\n",
       "      <td>1</td>\n",
       "      <td>0</td>\n",
       "      <td>0</td>\n",
       "      <td>0</td>\n",
       "      <td>0</td>\n",
       "      <td>0</td>\n",
       "      <td>...</td>\n",
       "      <td>0</td>\n",
       "      <td>0</td>\n",
       "      <td>0</td>\n",
       "      <td>0</td>\n",
       "      <td>1</td>\n",
       "      <td>0</td>\n",
       "      <td>0</td>\n",
       "      <td>0</td>\n",
       "      <td>1</td>\n",
       "      <td>0</td>\n",
       "    </tr>\n",
       "    <tr>\n",
       "      <th>4</th>\n",
       "      <td>0</td>\n",
       "      <td>1</td>\n",
       "      <td>0</td>\n",
       "      <td>0</td>\n",
       "      <td>0</td>\n",
       "      <td>0</td>\n",
       "      <td>1</td>\n",
       "      <td>0</td>\n",
       "      <td>0</td>\n",
       "      <td>0</td>\n",
       "      <td>...</td>\n",
       "      <td>1</td>\n",
       "      <td>0</td>\n",
       "      <td>0</td>\n",
       "      <td>0</td>\n",
       "      <td>0</td>\n",
       "      <td>0</td>\n",
       "      <td>0</td>\n",
       "      <td>0</td>\n",
       "      <td>1</td>\n",
       "      <td>0</td>\n",
       "    </tr>\n",
       "  </tbody>\n",
       "</table>\n",
       "<p>5 rows × 21 columns</p>\n",
       "</div>"
      ],
      "text/plain": [
       "   Human Resources  Research & Development  Sales  Human Resources  \\\n",
       "0                0                       0      1                0   \n",
       "1                0                       1      0                0   \n",
       "2                0                       1      0                0   \n",
       "3                0                       1      0                0   \n",
       "4                0                       1      0                0   \n",
       "\n",
       "   Life Sciences  Marketing  Medical  Other  Technical Degree  \\\n",
       "0              1          0        0      0                 0   \n",
       "1              1          0        0      0                 0   \n",
       "2              0          0        0      1                 0   \n",
       "3              1          0        0      0                 0   \n",
       "4              0          0        1      0                 0   \n",
       "\n",
       "   Healthcare Representative  ...  Laboratory Technician  Manager  \\\n",
       "0                          0  ...                      0        0   \n",
       "1                          0  ...                      0        0   \n",
       "2                          0  ...                      1        0   \n",
       "3                          0  ...                      0        0   \n",
       "4                          0  ...                      1        0   \n",
       "\n",
       "   Manufacturing Director  Research Director  Research Scientist  \\\n",
       "0                       0                  0                   0   \n",
       "1                       0                  0                   1   \n",
       "2                       0                  0                   0   \n",
       "3                       0                  0                   1   \n",
       "4                       0                  0                   0   \n",
       "\n",
       "   Sales Executive  Sales Representative  Divorced  Married  Single  \n",
       "0                1                     0         0        0       1  \n",
       "1                0                     0         0        1       0  \n",
       "2                0                     0         0        0       1  \n",
       "3                0                     0         0        1       0  \n",
       "4                0                     0         0        1       0  \n",
       "\n",
       "[5 rows x 21 columns]"
      ]
     },
     "execution_count": 12,
     "metadata": {},
     "output_type": "execute_result"
    }
   ],
   "source": [
    "#WRITE CODE HERE TO VIEW HEAD OF CATEGORICAL DF\n",
    "categorical_df.head()"
   ]
  },
  {
   "cell_type": "markdown",
   "metadata": {},
   "source": [
    "### 4.c. Handling Ordinal Data\n",
    "\n",
    "Similar to categorical data, ordinal data is also often a string value. However, we do not need to make dummies of this data since there is a measure of proximity. We only need to alias the data but also ensure that **the logical order of the data is maintained**. \n",
    "\n",
    "**EXERCISE**: The function below converts ordinal data into a model friendly format. Create a list of all ordinal data types to be converted, then create the function call and save the output at ordinal_df. (HINT: There are a total of **Four** columns, but **ONLY ONE** needs to be preprocessed. Put only the one that needs to be preprocessed in the `ordinal_df` list below. We will add the rest later."
   ]
  },
  {
   "cell_type": "code",
   "execution_count": 13,
   "metadata": {},
   "outputs": [],
   "source": [
    "def create_ordinal_df(data, ordinal_names, ordinal_dict):\n",
    "    \n",
    "    ordinal_df = data.loc[:,ordinal_names]\n",
    "    \n",
    "    for name in ordinal_names:\n",
    "        ordinal_df[name] = ordinal_df[name].map(ordinal_dict)\n",
    "    \n",
    "    return ordinal_df\n",
    "\n",
    "def view_ordinality(data, ordinal_names):\n",
    "    for name in ordinal_names:\n",
    "        print(data[name].drop_duplicates())\n",
    "        print()"
   ]
  },
  {
   "cell_type": "code",
   "execution_count": 14,
   "metadata": {},
   "outputs": [],
   "source": [
    "#MAKE LIST OF ORDINAL COLUMN NAMES HERE\n",
    "ordinal_names = ['BusinessTravel']"
   ]
  },
  {
   "cell_type": "markdown",
   "metadata": {},
   "source": [
    "**EXERCISE**: View the ordinality of the appropriate column name, and make the corresponding dictionary (e.g. 0 = low, 1 = medium, 2 = high)."
   ]
  },
  {
   "cell_type": "code",
   "execution_count": 15,
   "metadata": {},
   "outputs": [
    {
     "name": "stdout",
     "output_type": "stream",
     "text": [
      "0         Travel_Rarely\n",
      "1     Travel_Frequently\n",
      "17           Non-Travel\n",
      "Name: BusinessTravel, dtype: object\n",
      "\n"
     ]
    }
   ],
   "source": [
    "#VIEW ORDINALITY OF ORDINAL COLUMNS\n",
    "view_ordinality(df, ordinal_names)"
   ]
  },
  {
   "cell_type": "code",
   "execution_count": 16,
   "metadata": {},
   "outputs": [],
   "source": [
    "#MAKE ORDINAL DICTIONARY\n",
    "ordinal_dict = {\"Non-Travel\" :0, \"Travel_Rarely\":1, \"Travel_Frequently\": 2}"
   ]
  },
  {
   "cell_type": "code",
   "execution_count": 17,
   "metadata": {},
   "outputs": [],
   "source": [
    "#MAKE FUNCTION CALL HERE TO CREATE ORDINAL DICT\n",
    "ordinal_df = create_ordinal_df(df, ordinal_names, ordinal_dict)"
   ]
  },
  {
   "cell_type": "markdown",
   "metadata": {},
   "source": [
    "Finally, let's add back all of the ordinal columns that did not need any alteration. These include Education, StockOptionLevel, and JobLevel."
   ]
  },
  {
   "cell_type": "code",
   "execution_count": 18,
   "metadata": {},
   "outputs": [],
   "source": [
    "#Data is added back for you.\n",
    "ordinal_df = pd.concat([ordinal_df, df.loc[:, [\"Education\", \"StockOptionLevel\", \"JobLevel\"]]], axis = 1)"
   ]
  },
  {
   "cell_type": "markdown",
   "metadata": {},
   "source": [
    "**EXERCISE**: Verify you were successful by checking the data types of the ordinal_df. They should be integers."
   ]
  },
  {
   "cell_type": "code",
   "execution_count": 19,
   "metadata": {},
   "outputs": [
    {
     "data": {
      "text/plain": [
       "BusinessTravel      int64\n",
       "Education           int64\n",
       "StockOptionLevel    int64\n",
       "JobLevel            int64\n",
       "dtype: object"
      ]
     },
     "execution_count": 19,
     "metadata": {},
     "output_type": "execute_result"
    }
   ],
   "source": [
    "#VIEW DATA TYPES OF ORDINAL DF HERE\n",
    "ordinal_df.dtypes"
   ]
  },
  {
   "cell_type": "markdown",
   "metadata": {},
   "source": [
    "### 4.d. Handling Boolean Data\n",
    "\n",
    "Boolean data is also often in string format. This conversion is trickier because you need to determine what represents **YES** and **NO** for each column. For attrition, this is self-explanatory (1 = attrition, 0 = not). For columns like gender, pick either gender as the **YES** gender. Ultimately it will not impact the modeling.\n",
    "\n",
    "**EXERCISE**: Determine the variables that are boolean, as well as their YES / NO values, by following the steps below. Then convert the values using the provided function."
   ]
  },
  {
   "cell_type": "code",
   "execution_count": 20,
   "metadata": {},
   "outputs": [],
   "source": [
    "# CREATE A LIST OF BOOLEAN COLUMNS\n",
    "boolean_names = ['Attrition', 'Gender', 'Over18', 'OverTime']"
   ]
  },
  {
   "cell_type": "code",
   "execution_count": 21,
   "metadata": {},
   "outputs": [],
   "source": [
    "# Visualize the unique names found in each column name by running the function\n",
    "def visualize_booleans(data, boolean_names,):\n",
    "    for name in boolean_names:\n",
    "        print(data[name].drop_duplicates())\n",
    "        print()\n"
   ]
  },
  {
   "cell_type": "code",
   "execution_count": 22,
   "metadata": {},
   "outputs": [
    {
     "name": "stdout",
     "output_type": "stream",
     "text": [
      "0    Yes\n",
      "1     No\n",
      "Name: Attrition, dtype: object\n",
      "\n",
      "0    Female\n",
      "1      Male\n",
      "Name: Gender, dtype: object\n",
      "\n",
      "0    Y\n",
      "Name: Over18, dtype: object\n",
      "\n",
      "0    Yes\n",
      "1     No\n",
      "Name: OverTime, dtype: object\n",
      "\n"
     ]
    }
   ],
   "source": [
    "#CALL THE VISUALIZE BOOLEANS FUNCTION HERE\n",
    "visualize_booleans(df, boolean_names)"
   ]
  },
  {
   "cell_type": "markdown",
   "metadata": {},
   "source": [
    "**EXERCISE**: It looks like we have another column that does not provide us with any unique data. Figure out which column that is, and drop it. "
   ]
  },
  {
   "cell_type": "code",
   "execution_count": 23,
   "metadata": {},
   "outputs": [],
   "source": [
    "# WRITE CODE HERE TO DROP COLUMN\n",
    "df.drop(['Over18'], axis = 1, inplace = True)"
   ]
  },
  {
   "cell_type": "code",
   "execution_count": 24,
   "metadata": {},
   "outputs": [],
   "source": [
    "#REMOVE Over18 FROM boolean_names LIST\n",
    "boolean_names.remove('Over18')"
   ]
  },
  {
   "cell_type": "markdown",
   "metadata": {},
   "source": [
    "**EXERCISE**: Finally, create a list of lists in the format shown below, and feed it into the provided function to conver boolean values."
   ]
  },
  {
   "cell_type": "code",
   "execution_count": 25,
   "metadata": {},
   "outputs": [],
   "source": [
    "def convert_boolean_df(data, boolean_names_and_values):\n",
    "    for name_value in boolean_names_and_values:\n",
    "        data[name_value[0]] = data[name_value[0]].map({name_value[1]: 1,\n",
    "                                                       name_value[2]: 0})\n"
   ]
  },
  {
   "cell_type": "code",
   "execution_count": 26,
   "metadata": {},
   "outputs": [],
   "source": [
    "# CREATE A LIST OF LISTS ALL BOOLEAN COLUMNS\n",
    "# Each list has the order: [COLUMN_NAME, YES_VALUE, NO_VALUE]\n",
    "boolean_names_and_values =  [[\"Attrition\", \"Yes\", \"No\"],\n",
    "                             [\"Gender\", \"Male\", \"Female\"],\n",
    "                             [\"OverTime\", \"Yes\", \"No\"]]\n"
   ]
  },
  {
   "cell_type": "code",
   "execution_count": 27,
   "metadata": {},
   "outputs": [],
   "source": [
    "#CALL FUNCTION TO CONVERT BOOLEAN DF HERE\n",
    "convert_boolean_df(df, boolean_names_and_values)"
   ]
  },
  {
   "cell_type": "markdown",
   "metadata": {},
   "source": [
    "**EXERCISE**: Verify you were successful by running `visualize_booleans` again and comparing the results."
   ]
  },
  {
   "cell_type": "code",
   "execution_count": 28,
   "metadata": {},
   "outputs": [
    {
     "name": "stdout",
     "output_type": "stream",
     "text": [
      "0    1\n",
      "1    0\n",
      "Name: Attrition, dtype: int64\n",
      "\n",
      "0    0\n",
      "1    1\n",
      "Name: Gender, dtype: int64\n",
      "\n",
      "0    1\n",
      "1    0\n",
      "Name: OverTime, dtype: int64\n",
      "\n"
     ]
    }
   ],
   "source": [
    "#VISUALIZE BOOLEAN OUTPUT HERE USING visualize_booleans FUNCTION\n",
    "visualize_booleans(df, boolean_names)"
   ]
  },
  {
   "cell_type": "markdown",
   "metadata": {},
   "source": [
    "### 4.e. Normalizing Numerical Data\n",
    "\n",
    "We are almost ready for modeling! The last thing to do is convert our numerical data into something with more context. When we look at something like income for modeling, the actual value means nothing. What **DOES** matter is how different that value is from other data observations. \n",
    "\n",
    "Therefore, many data scientists standardize numerical data by fitting it to a normal distribution and storing the z-score rather than the actual values.\n",
    "\n",
    "**EXERCISE**: Create a list of all the columns that need to be normalized (there are many!) and call it `normalized_names`. Then call the function that will normalize them and save them all to `normalized_df`."
   ]
  },
  {
   "cell_type": "code",
   "execution_count": 29,
   "metadata": {},
   "outputs": [],
   "source": [
    "from sklearn.preprocessing import StandardScaler\n",
    "\n",
    "def normalize_values(data, column_names):\n",
    "    normalized_df = StandardScaler().fit_transform(data.loc[:,\n",
    "                                                            column_names])\n",
    "    \n",
    "    return pd.DataFrame(normalized_df, columns = column_names)\n"
   ]
  },
  {
   "cell_type": "code",
   "execution_count": 30,
   "metadata": {},
   "outputs": [],
   "source": [
    "#WRITE NORMALIZED COLUMN NAMES LIST HERE\n",
    "normalized_names = ['Age', 'DistanceFromHome', 'EmployeeCount', \"EnvironmentSatisfaction\",\n",
    "                    'JobInvolvement', 'JobSatisfaction', \"MonthlyIncome\", \"MonthlyRate\",\n",
    "                    'NumCompaniesWorked', 'PercentSalaryHike', \"PerformanceRating\",\n",
    "                    'RelationshipSatisfaction', 'StandardHours', 'TotalWorkingYears',\n",
    "                    'TrainingTimesLastYear', 'WorkLifeBalance', 'YearsAtCompany',\n",
    "                    'YearsInCurrentRole', 'YearsSinceLastPromotion',\n",
    "                    'YearsWithCurrManager']\n"
   ]
  },
  {
   "cell_type": "code",
   "execution_count": 31,
   "metadata": {},
   "outputs": [],
   "source": [
    "#CALL normalize_values FUNCTION HERE\n",
    "normalized_df = normalize_values(df, normalized_names)"
   ]
  },
  {
   "cell_type": "markdown",
   "metadata": {},
   "source": [
    "**EXERCISE**: Verify you were successful by viewing the head of the normalized_df"
   ]
  },
  {
   "cell_type": "code",
   "execution_count": 32,
   "metadata": {},
   "outputs": [
    {
     "data": {
      "text/html": [
       "<div>\n",
       "<style scoped>\n",
       "    .dataframe tbody tr th:only-of-type {\n",
       "        vertical-align: middle;\n",
       "    }\n",
       "\n",
       "    .dataframe tbody tr th {\n",
       "        vertical-align: top;\n",
       "    }\n",
       "\n",
       "    .dataframe thead th {\n",
       "        text-align: right;\n",
       "    }\n",
       "</style>\n",
       "<table border=\"1\" class=\"dataframe\">\n",
       "  <thead>\n",
       "    <tr style=\"text-align: right;\">\n",
       "      <th></th>\n",
       "      <th>Age</th>\n",
       "      <th>DistanceFromHome</th>\n",
       "      <th>EmployeeCount</th>\n",
       "      <th>EnvironmentSatisfaction</th>\n",
       "      <th>JobInvolvement</th>\n",
       "      <th>JobSatisfaction</th>\n",
       "      <th>MonthlyIncome</th>\n",
       "      <th>MonthlyRate</th>\n",
       "      <th>NumCompaniesWorked</th>\n",
       "      <th>PercentSalaryHike</th>\n",
       "      <th>PerformanceRating</th>\n",
       "      <th>RelationshipSatisfaction</th>\n",
       "      <th>StandardHours</th>\n",
       "      <th>TotalWorkingYears</th>\n",
       "      <th>TrainingTimesLastYear</th>\n",
       "      <th>WorkLifeBalance</th>\n",
       "      <th>YearsAtCompany</th>\n",
       "      <th>YearsInCurrentRole</th>\n",
       "      <th>YearsSinceLastPromotion</th>\n",
       "      <th>YearsWithCurrManager</th>\n",
       "    </tr>\n",
       "  </thead>\n",
       "  <tbody>\n",
       "    <tr>\n",
       "      <th>0</th>\n",
       "      <td>0.446350</td>\n",
       "      <td>-1.010909</td>\n",
       "      <td>0.0</td>\n",
       "      <td>-0.660531</td>\n",
       "      <td>0.379672</td>\n",
       "      <td>1.153254</td>\n",
       "      <td>-0.108350</td>\n",
       "      <td>0.726020</td>\n",
       "      <td>2.125136</td>\n",
       "      <td>-1.150554</td>\n",
       "      <td>-0.426230</td>\n",
       "      <td>-1.584178</td>\n",
       "      <td>0.0</td>\n",
       "      <td>-0.421642</td>\n",
       "      <td>-2.171982</td>\n",
       "      <td>-2.493820</td>\n",
       "      <td>-0.164613</td>\n",
       "      <td>-0.063296</td>\n",
       "      <td>-0.679146</td>\n",
       "      <td>0.245834</td>\n",
       "    </tr>\n",
       "    <tr>\n",
       "      <th>1</th>\n",
       "      <td>1.322365</td>\n",
       "      <td>-0.147150</td>\n",
       "      <td>0.0</td>\n",
       "      <td>0.254625</td>\n",
       "      <td>-1.026167</td>\n",
       "      <td>-0.660853</td>\n",
       "      <td>-0.291719</td>\n",
       "      <td>1.488876</td>\n",
       "      <td>-0.678049</td>\n",
       "      <td>2.129306</td>\n",
       "      <td>2.346151</td>\n",
       "      <td>1.191438</td>\n",
       "      <td>0.0</td>\n",
       "      <td>-0.164511</td>\n",
       "      <td>0.155707</td>\n",
       "      <td>0.338096</td>\n",
       "      <td>0.488508</td>\n",
       "      <td>0.764998</td>\n",
       "      <td>-0.368715</td>\n",
       "      <td>0.806541</td>\n",
       "    </tr>\n",
       "    <tr>\n",
       "      <th>2</th>\n",
       "      <td>0.008343</td>\n",
       "      <td>-0.887515</td>\n",
       "      <td>0.0</td>\n",
       "      <td>1.169781</td>\n",
       "      <td>-1.026167</td>\n",
       "      <td>0.246200</td>\n",
       "      <td>-0.937654</td>\n",
       "      <td>-1.674841</td>\n",
       "      <td>1.324226</td>\n",
       "      <td>-0.057267</td>\n",
       "      <td>-0.426230</td>\n",
       "      <td>-0.658973</td>\n",
       "      <td>0.0</td>\n",
       "      <td>-0.550208</td>\n",
       "      <td>0.155707</td>\n",
       "      <td>0.338096</td>\n",
       "      <td>-1.144294</td>\n",
       "      <td>-1.167687</td>\n",
       "      <td>-0.679146</td>\n",
       "      <td>-1.155935</td>\n",
       "    </tr>\n",
       "    <tr>\n",
       "      <th>3</th>\n",
       "      <td>-0.429664</td>\n",
       "      <td>-0.764121</td>\n",
       "      <td>0.0</td>\n",
       "      <td>1.169781</td>\n",
       "      <td>0.379672</td>\n",
       "      <td>0.246200</td>\n",
       "      <td>-0.763634</td>\n",
       "      <td>1.243211</td>\n",
       "      <td>-0.678049</td>\n",
       "      <td>-1.150554</td>\n",
       "      <td>-0.426230</td>\n",
       "      <td>0.266233</td>\n",
       "      <td>0.0</td>\n",
       "      <td>-0.421642</td>\n",
       "      <td>0.155707</td>\n",
       "      <td>0.338096</td>\n",
       "      <td>0.161947</td>\n",
       "      <td>0.764998</td>\n",
       "      <td>0.252146</td>\n",
       "      <td>-1.155935</td>\n",
       "    </tr>\n",
       "    <tr>\n",
       "      <th>4</th>\n",
       "      <td>-1.086676</td>\n",
       "      <td>-0.887515</td>\n",
       "      <td>0.0</td>\n",
       "      <td>-1.575686</td>\n",
       "      <td>0.379672</td>\n",
       "      <td>-0.660853</td>\n",
       "      <td>-0.644858</td>\n",
       "      <td>0.325900</td>\n",
       "      <td>2.525591</td>\n",
       "      <td>-0.877232</td>\n",
       "      <td>-0.426230</td>\n",
       "      <td>1.191438</td>\n",
       "      <td>0.0</td>\n",
       "      <td>-0.678774</td>\n",
       "      <td>0.155707</td>\n",
       "      <td>0.338096</td>\n",
       "      <td>-0.817734</td>\n",
       "      <td>-0.615492</td>\n",
       "      <td>-0.058285</td>\n",
       "      <td>-0.595227</td>\n",
       "    </tr>\n",
       "  </tbody>\n",
       "</table>\n",
       "</div>"
      ],
      "text/plain": [
       "        Age  DistanceFromHome  EmployeeCount  EnvironmentSatisfaction  \\\n",
       "0  0.446350         -1.010909            0.0                -0.660531   \n",
       "1  1.322365         -0.147150            0.0                 0.254625   \n",
       "2  0.008343         -0.887515            0.0                 1.169781   \n",
       "3 -0.429664         -0.764121            0.0                 1.169781   \n",
       "4 -1.086676         -0.887515            0.0                -1.575686   \n",
       "\n",
       "   JobInvolvement  JobSatisfaction  MonthlyIncome  MonthlyRate  \\\n",
       "0        0.379672         1.153254      -0.108350     0.726020   \n",
       "1       -1.026167        -0.660853      -0.291719     1.488876   \n",
       "2       -1.026167         0.246200      -0.937654    -1.674841   \n",
       "3        0.379672         0.246200      -0.763634     1.243211   \n",
       "4        0.379672        -0.660853      -0.644858     0.325900   \n",
       "\n",
       "   NumCompaniesWorked  PercentSalaryHike  PerformanceRating  \\\n",
       "0            2.125136          -1.150554          -0.426230   \n",
       "1           -0.678049           2.129306           2.346151   \n",
       "2            1.324226          -0.057267          -0.426230   \n",
       "3           -0.678049          -1.150554          -0.426230   \n",
       "4            2.525591          -0.877232          -0.426230   \n",
       "\n",
       "   RelationshipSatisfaction  StandardHours  TotalWorkingYears  \\\n",
       "0                 -1.584178            0.0          -0.421642   \n",
       "1                  1.191438            0.0          -0.164511   \n",
       "2                 -0.658973            0.0          -0.550208   \n",
       "3                  0.266233            0.0          -0.421642   \n",
       "4                  1.191438            0.0          -0.678774   \n",
       "\n",
       "   TrainingTimesLastYear  WorkLifeBalance  YearsAtCompany  YearsInCurrentRole  \\\n",
       "0              -2.171982        -2.493820       -0.164613           -0.063296   \n",
       "1               0.155707         0.338096        0.488508            0.764998   \n",
       "2               0.155707         0.338096       -1.144294           -1.167687   \n",
       "3               0.155707         0.338096        0.161947            0.764998   \n",
       "4               0.155707         0.338096       -0.817734           -0.615492   \n",
       "\n",
       "   YearsSinceLastPromotion  YearsWithCurrManager  \n",
       "0                -0.679146              0.245834  \n",
       "1                -0.368715              0.806541  \n",
       "2                -0.679146             -1.155935  \n",
       "3                 0.252146             -1.155935  \n",
       "4                -0.058285             -0.595227  "
      ]
     },
     "execution_count": 32,
     "metadata": {},
     "output_type": "execute_result"
    }
   ],
   "source": [
    "#VIEW HEAD OF NORMALIZED DF HERE\n",
    "normalized_df.head()"
   ]
  },
  {
   "cell_type": "markdown",
   "metadata": {},
   "source": [
    "### 4.f. Finalizing the Modeling Dataset\n",
    "\n",
    "Finally, we are ready to combine everything together into a modeling dataset. The dataset df is refined for you below to trim out all values that we have changed.\n",
    "\n",
    "**EXERCISE**: Using all of the previously created dataframes, including `boolean_df` below, combine all of the data into a single flat dataset"
   ]
  },
  {
   "cell_type": "code",
   "execution_count": 33,
   "metadata": {},
   "outputs": [],
   "source": [
    "# Editing df to only include up-to-date columns\n",
    "boolean_df = df.loc[:,boolean_names]"
   ]
  },
  {
   "cell_type": "code",
   "execution_count": 34,
   "metadata": {},
   "outputs": [],
   "source": [
    "#COMBINE ALL DATA TOGETHER HERE (including boolean_df)\n",
    "df = pd.concat([boolean_df, categorical_df, normalized_df, ordinal_df], axis = 1)"
   ]
  },
  {
   "cell_type": "markdown",
   "metadata": {},
   "source": [
    "**EXERCISE**: Verify that you combined the data correctly by checking the shape of `df`. You should have 1470 rows and 48 columns"
   ]
  },
  {
   "cell_type": "code",
   "execution_count": 35,
   "metadata": {},
   "outputs": [
    {
     "data": {
      "text/plain": [
       "(1470, 48)"
      ]
     },
     "execution_count": 35,
     "metadata": {},
     "output_type": "execute_result"
    }
   ],
   "source": [
    "#VIEW SHAPE OF DF HERE\n",
    "df.shape"
   ]
  },
  {
   "cell_type": "markdown",
   "metadata": {},
   "source": [
    "## 5. Model Training and Evaluation\n",
    "\n",
    "Finally, we are ready to start modeling. In this section we will compare the performance of three fairly basic Machine Learning algorithms and see how well they can predict attrition.\n",
    "\n",
    "The three models are listed below, and will be implemented using Scikit-Learn, one of the most popular ML packages in Python:\n",
    "\n",
    "    1.) K-Nearest Neighbors (KNN)\n",
    "    2.) Gaussian Naive Bayes (GNB)\n",
    "    3.) Logistic Regression (LOG)\n",
    "    \n",
    "Here is a quick blurb on how each of these ML algorithms work.\n",
    "   \n",
    "- **KNN** \n",
    "\n",
    "Takes an unknown person (don't know if there was attrition) and compares it to the most similar people they work with. If the most similar \"K\" people were characterized by attrition, then the unknown individual is as well.\n",
    "   \n",
    "- **GNB** \n",
    "    \n",
    "Probabilistically examines the mean characteristics of the stereotypical attrition and non-attrition individual. Assuming feature independence (naivete), the unknown person is classified based on the stereotype in which they are characteristically most similar.\n",
    "  \n",
    "- **LOG** \n",
    "\n",
    "Regression system that classifies individuals by determining an optimal separation boundary between individuals that were characterized by attrition and those that were not. "
   ]
  },
  {
   "cell_type": "markdown",
   "metadata": {},
   "source": [
    "### 5.a. Importing Models\n",
    "\n",
    "For convenience, the models have been imported below"
   ]
  },
  {
   "cell_type": "code",
   "execution_count": 36,
   "metadata": {},
   "outputs": [],
   "source": [
    "# KNN\n",
    "from sklearn.neighbors import KNeighborsClassifier\n",
    "\n",
    "# GNB\n",
    "from sklearn.naive_bayes import GaussianNB\n",
    "\n",
    "# LOG\n",
    "from sklearn.linear_model import LogisticRegression"
   ]
  },
  {
   "cell_type": "markdown",
   "metadata": {},
   "source": [
    "Before we can do anything with these models, we need to instantiate them.\n",
    "\n",
    "**EXERCISE**: Instantiate all three models below, setting them to the names of their abbreviations (this is simple, do not overthink this)."
   ]
  },
  {
   "cell_type": "code",
   "execution_count": 37,
   "metadata": {},
   "outputs": [],
   "source": [
    "# KNN\n",
    "KNN = KNeighborsClassifier()\n",
    "\n",
    "# GNB\n",
    "GNB = GaussianNB()\n",
    "\n",
    "# LOG\n",
    "LOG = LogisticRegression()"
   ]
  },
  {
   "cell_type": "markdown",
   "metadata": {},
   "source": [
    "### 5.b. Split the data into train and test slices\n",
    "\n",
    "To evaluate models in an unbiased way, we have to set some data aside that the model will not see during training. This process is called train test split.\n",
    "\n",
    "**EXERCISE**: The train test split function is provided to you below. Split the input and target (**target = Attrition**) data into slices. Set the output variables to be X_train, X_test, y_train, and y_test **in that order**. Make the split on 25% of the data."
   ]
  },
  {
   "cell_type": "code",
   "execution_count": 38,
   "metadata": {},
   "outputs": [],
   "source": [
    "from sklearn.model_selection import train_test_split"
   ]
  },
  {
   "cell_type": "code",
   "execution_count": 39,
   "metadata": {},
   "outputs": [],
   "source": [
    "#WRITE CODE HERE (Tricky! See if you can specify ALL columns but attrition.)\n",
    "X_train, X_test, y_train, y_test = train_test_split(df.loc[:, df.columns != \"Attrition\"], \n",
    "                                                    df.loc[:, \"Attrition\"], \n",
    "                                                    test_size = 0.25)"
   ]
  },
  {
   "cell_type": "markdown",
   "metadata": {},
   "source": [
    "### 5.c. Train all of the models\n",
    "\n",
    "Now we are ready to train the models! In order to train the models, you must call `.fit` on each model. Be sure to only give the model the training data! e.g.) model.fit(train_x_values, train_y_values)\n",
    "\n",
    "**EXERCISE**: Call `.fit` for all of the instantiated models."
   ]
  },
  {
   "cell_type": "code",
   "execution_count": 40,
   "metadata": {},
   "outputs": [
    {
     "name": "stderr",
     "output_type": "stream",
     "text": [
      "C:\\Users\\sshowalter\\AppData\\Local\\Continuum\\miniconda3\\lib\\site-packages\\sklearn\\linear_model\\logistic.py:432: FutureWarning: Default solver will be changed to 'lbfgs' in 0.22. Specify a solver to silence this warning.\n",
      "  FutureWarning)\n"
     ]
    },
    {
     "data": {
      "text/plain": [
       "LogisticRegression(C=1.0, class_weight=None, dual=False, fit_intercept=True,\n",
       "                   intercept_scaling=1, l1_ratio=None, max_iter=100,\n",
       "                   multi_class='warn', n_jobs=None, penalty='l2',\n",
       "                   random_state=None, solver='warn', tol=0.0001, verbose=0,\n",
       "                   warm_start=False)"
      ]
     },
     "execution_count": 40,
     "metadata": {},
     "output_type": "execute_result"
    }
   ],
   "source": [
    "# KNN\n",
    "KNN.fit(X_train, y_train)\n",
    "\n",
    "# GNB\n",
    "GNB.fit(X_train, y_train)\n",
    "\n",
    "# LOG\n",
    "LOG.fit(X_train, y_train)"
   ]
  },
  {
   "cell_type": "markdown",
   "metadata": {},
   "source": [
    "### 5.d. Make prediction for all of the models\n",
    "\n",
    "Now we can use our trained models to predict. You can do so by providing **ONLY THE TRAINING DATA** to the trained model and calling `.predict`. e.g.) model.predict(test_x_values)\n",
    "\n",
    "**EXERCISE**: Call `.predict` for all of the instantiated models. Save all output as \"<MODEL_NAME>_preds\". e.g.) KNN_preds."
   ]
  },
  {
   "cell_type": "code",
   "execution_count": 41,
   "metadata": {},
   "outputs": [],
   "source": [
    "# KNN\n",
    "KNN_preds = KNN.predict(X_test)\n",
    "\n",
    "# GNB\n",
    "GNB_preds = GNB.predict(X_test)\n",
    "\n",
    "# LOG\n",
    "LOG_preds = LOG.predict(X_test)"
   ]
  },
  {
   "cell_type": "markdown",
   "metadata": {},
   "source": [
    "### 5.e. Evaluate performance for all models\n",
    "\n",
    "**EXERCISE**: Now that we have predictions, use the function provided below to determine which model is best! See the function's inputs for what you need to provide (**HINT**: which of the `train_test_split` slices includes the actual classes for the test data?)"
   ]
  },
  {
   "cell_type": "code",
   "execution_count": 42,
   "metadata": {},
   "outputs": [],
   "source": [
    "from sklearn.metrics import classification_report\n",
    "\n",
    "def get_performance(model_name, actual_results, predictions):\n",
    "    print(model_name + \"\\n\" +\n",
    "          classification_report(actual_results, \n",
    "                                predictions))\n",
    "    print(\"\\n================================================================================\\n\")"
   ]
  },
  {
   "cell_type": "code",
   "execution_count": 43,
   "metadata": {},
   "outputs": [
    {
     "name": "stdout",
     "output_type": "stream",
     "text": [
      "KNN\n",
      "              precision    recall  f1-score   support\n",
      "\n",
      "           0       0.88      0.98      0.93       319\n",
      "           1       0.62      0.16      0.26        49\n",
      "\n",
      "    accuracy                           0.88       368\n",
      "   macro avg       0.75      0.57      0.59       368\n",
      "weighted avg       0.85      0.88      0.84       368\n",
      "\n",
      "\n",
      "================================================================================\n",
      "\n",
      "GNB\n",
      "              precision    recall  f1-score   support\n",
      "\n",
      "           0       0.94      0.60      0.73       319\n",
      "           1       0.22      0.73      0.34        49\n",
      "\n",
      "    accuracy                           0.62       368\n",
      "   macro avg       0.58      0.67      0.54       368\n",
      "weighted avg       0.84      0.62      0.68       368\n",
      "\n",
      "\n",
      "================================================================================\n",
      "\n",
      "LOG\n",
      "              precision    recall  f1-score   support\n",
      "\n",
      "           0       0.93      0.97      0.95       319\n",
      "           1       0.75      0.49      0.59        49\n",
      "\n",
      "    accuracy                           0.91       368\n",
      "   macro avg       0.84      0.73      0.77       368\n",
      "weighted avg       0.90      0.91      0.90       368\n",
      "\n",
      "\n",
      "================================================================================\n",
      "\n"
     ]
    }
   ],
   "source": [
    "#KNN PERFORMANCE\n",
    "get_performance(\"KNN\", y_test, KNN_preds)\n",
    "\n",
    "#GNB PERFORMANCE\n",
    "get_performance(\"GNB\", y_test, GNB_preds)\n",
    "\n",
    "#LOG PERFORMANCE\n",
    "get_performance(\"LOG\", y_test, LOG_preds)"
   ]
  },
  {
   "cell_type": "markdown",
   "metadata": {},
   "source": [
    "**EXERCISE**: Which model was the best?\n",
    "    \n",
    "<input type=\"checkbox\" align = \"right\"> KNN  $\\;\\;\\;\\;$ <input type=\"checkbox\" align = \"right\"> GNB $\\;\\;\\;\\;$ <input type=\"checkbox\" align = \"right\" checked> LOG \n",
    "\n",
    "**CONGRATULATIONS! YOU FINISHED THE WMP MACHINE LEARNING TUTORIAL!**"
   ]
  },
  {
   "cell_type": "markdown",
   "metadata": {},
   "source": [
    "## Advanced Exercises \n",
    "\n",
    "If you liked this tutorial, want to get involved in Machine Learning at West Monroe, or both, please go ahead and try the following additional exercises. \n",
    "\n",
    "1. Unsupervised Machine Learning groups data based on metrics of similarity. Leverage a clustering algorithm like K-means and document its findings with the given data. What is the composition of each cluster and what insights about attrition can you determine? Save your results as a Jupyter notebook and send them to **Sam Showalter** or **Jordan Totten** for review.\n",
    "\n",
    "2. In this tutorial we used the package Scikit-learn to examine different Machine Learning algorithms and their ability to predict attrition with the given data. For the simplest of these algorithms, K-Nearest Neighbors, implement the algorithm from scratch (no Sklearn!) and compare the results to the findings in your notebook.\n",
    "\n",
    "3. Really love this stuff? Are you a math whiz? Implement a Gaussian Naive Bayes' classifier from scratch to classify this data. Compare its performance to the Scikit-learn GNB. If you do so successfully, you will get an all-analytics shout out!"
   ]
  }
 ],
 "metadata": {
  "kernelspec": {
   "display_name": "Python (showenv)",
   "language": "python",
   "name": "showenv"
  },
  "language_info": {
   "codemirror_mode": {
    "name": "ipython",
    "version": 3
   },
   "file_extension": ".py",
   "mimetype": "text/x-python",
   "name": "python",
   "nbconvert_exporter": "python",
   "pygments_lexer": "ipython3",
   "version": "3.7.3"
  }
 },
 "nbformat": 4,
 "nbformat_minor": 2
}
